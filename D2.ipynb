{
 "cells": [
  {
   "cell_type": "markdown",
   "metadata": {},
   "source": [
    "# <center>Day 2: matching models with transferable utility</center>\n",
    "### <center>Alfred Galichon (NYU+ScPo)</center>\n",
    "## <center>'math+econ+code' masterclass on equilibrium transport and matching models in economics</center>\n",
    "<center>© 2020-2021 by Alfred Galichon.  Support from  NSF DMS-1716489 and ERC CoG-866274 EQUIPRICE grants is acknowledged.</center>\n",
    "\n",
    "#### <center>with Python code</center>\n",
    "\n",
    "**If you reuse material from this masterclass, please cite as:**<br>\n",
    "Alfred Galichon, 'math+econ+code' masterclass on equilibrium transport and matching models in economics, June 2021. https://github.com/math-econ-code/mec_equil"
   ]
  },
  {
   "cell_type": "markdown",
   "metadata": {},
   "source": [
    "# References\n",
    "\n",
    "## Textbooks\n",
    "* [OTME] Alfred Galichon (2016). *Optimal transport methods in economics*. Princeton.\n",
    "* Pierre-André Chiappori (2017). *Matching with Transfers: The Economics of Love and Marriage*. Princeton.\n",
    "\n",
    "## Papers\n",
    "\n",
    "* Llyod Shapley and Martin Shubik (1971). \"The assignment game I: The core.\" *International Journal of Game Theory*  1, pp. 111–130.\n",
    "* Becker (1973). \"A theory of marriage part 1.\" *Journal of Political Economy*.\n",
    "* Eugene Choo and Aloysius Siow (2006). \"Who marries whom and why.\" *Journal of Political Economy* 114, no. 1, pp. 175-201.\n",
    "* Alfred Galichon and Bernard Salanié (2011-2021). \"Cupid's invisible hands: Social Surplus and Identification in Matching Models\". *Review of Economic Studies*, forthcoming.\n",
    "* Arnaud Dupuy, Alfred Galichon, Sonia Jaffe, and Scott Kominers (2020). \"Taxation in matching markets\". *International Economic Review*, forthcoming. "
   ]
  },
  {
   "cell_type": "markdown",
   "metadata": {},
   "source": [
    "\n",
    "# Generating worker and firm data\n",
    "\n",
    "We will consider an academic job market, where candidate professors match with colleges--or rather, academic positions, as each position can only be filled by one applicant. \n",
    "\n",
    "A professor $x$ has characteristics $\\xi(x) \\in \\mathbb{R}^d$ where $\\xi$ includes measures of skills, such as general skills<br>\n",
    "* $\\xi_0$=teaching ability,<br>\n",
    "* $\\xi_1$=research ability, and<br>\n",
    "* $\\xi_2$=collegiality<br>\n",
    "as well as specific skills, like<br>\n",
    "* $\\xi_3,\\xi_4,\\xi_5$=specialization in micro, macro, and econometrics<br>\n",
    "and in addition, let's assume $\\xi$ also encodes geographic coordinates of the applicant's residential address<br>\n",
    "* $\\xi_6,\\xi_7$=residential address, (horizontal,vertical) geographic coordinate<br>\n",
    "\n",
    "\n",
    "College offer positions $y$ with characteristics $\\zeta(y) \\in \\mathbb{R}^d$, where $\\zeta_k$=how much one unit of characteristics $k$ is valued (in dollar terms) for this position, for $k\\in\\{0,...,7\\}$ and $\\zeta_6,\\zeta_7$ = college location's geographic coordinates."
   ]
  },
  {
   "cell_type": "markdown",
   "metadata": {},
   "source": [
    "## Preferences\n",
    "\n",
    "We assume that the amenity that worker $x$ associates with working for position $y$ is equal to minus the Euclidian distance between her location and the position's location, that is\n",
    "$$\\alpha_{xy} = - \\sqrt{(\\xi_{x6} - \\zeta_{y6})^2+(\\xi_{x7} - \\zeta_{y7})^2}.$$\n",
    "\n",
    "We assume that the output $\\gamma_{xy}$ that worker $x$ produces if she takes position $y$ is a CES function where specific/general skills are more or less substituable \n",
    "$$\\gamma_{xy}=\\left( \\left(\\sum_{k\\in\\{0,...,2\\} }(\\xi_{xk} \\zeta_{yk})^{r_g} \\right)^{r/{r_g}}+\n",
    "\\left(\\sum_{k\\in\\{3,...,5\\} }(\\xi_{xk} \\zeta_{yk})^{r_s} \\right)^{r/{r_s}} \\right)^{1/r}.$$\n",
    "\n",
    "The *total output* is defined as $\\Phi _{xy}=\\alpha _{xy}+\\gamma _{xy}$. It measures the complemenarity between workers and firms."
   ]
  },
  {
   "cell_type": "markdown",
   "metadata": {},
   "source": [
    "## Generating demand and supply\n",
    "\n",
    "We shall take 50 applicants, 30 positions, $r_g = .8$, $r_s = .6$ and $r = .7$."
   ]
  },
  {
   "cell_type": "code",
   "execution_count": 1,
   "metadata": {},
   "outputs": [],
   "source": [
    "import numpy as np\n",
    "from scipy.spatial.distance import cdist\n",
    "\n",
    "np.random.seed(777)\n",
    "d = 8\n",
    "nbx = 50 #1200\n",
    "nby = 30 #1000\n",
    "\n",
    "rg = .8\n",
    "rs = .6\n",
    "r  = .7\n",
    "\n",
    "n_x = np.ones(nbx)\n",
    "m_y = np.ones(nby)\n",
    "ξ_x_k = np.random.rand(nbx,d)\n",
    "ζ_y_k = np.random.rand(nby,d)\n",
    "\n",
    "α_x_y = np.zeros((nbx,nby))\n",
    "γ_x_y = np.zeros((nbx,nby))\n",
    "for x in range(nbx):\n",
    "    for y in range(nby):\n",
    "        α_x_y[x,y] = - np.linalg.norm(ξ_x_k[x,6:7]-ζ_y_k[y,6:7]) / 50\n",
    "        γ_x_y[x,y] = (np.sum( (ξ_x_k[x,0:3]*ζ_y_k[y,0:3])**rg )**(r/rg)+(  np.sum(  ξ_x_k[x,3:6]*ζ_y_k[y,3:6] )**rs )**(r/rs))**r\n",
    "        \n",
    "Φ_x_y = α_x_y + γ_x_y"
   ]
  },
  {
   "cell_type": "markdown",
   "metadata": {},
   "source": [
    "## Wage determination\n",
    "\n",
    "Let $w_{xy}$ be the wage (endogenous, determined at equilibrium) that college $y$ would be willing to pay to employee $x$, to be determined. Start by assuming that there are no taxes, so if $x$ and $y$ match, then their payoff are respectively:\n",
    "$U_{xy} = \\alpha_{xy} + w_{xy}\\\\\n",
    "V_{xy}= \\gamma_{xy} - w_{xy} $\n",
    "while we assume that these payoffs are zero if $x$ and $y$ do not match."
   ]
  },
  {
   "cell_type": "markdown",
   "metadata": {},
   "source": [
    "## Matching patterns\n",
    "\n",
    "Assume that there are $n_{x}$ employees of type $x$, and $m_{y}$ colleges of type $y$.\n",
    "The number of matched $xy$ pairs, denoted  $\\mu_{xy}$, is determined at equilibrium. It should satisfy the *populations constraints*:\n",
    "\n",
    "$\\left\\{\n",
    "\\begin{array}{l}\n",
    "\\sum_{y}\\mu _{xy}\\leq n_{x} \\\\\n",
    "\\sum_{x}\\mu _{xy}\\leq m_{y}.%\n",
    "\\end{array}\n",
    "\\right. $\n",
    "\n",
    "In the sequel it will be convenient to denote $\\mathcal{X}_0 = \\mathcal{X} \\cup \\{ 0 \\}$  and $\\mathcal{Y}_0 = \\mathcal{Y} \\cup \\{ 0 \\}$, and introduce\n",
    "\n",
    "$\\left\\{\n",
    "\\begin{array}{l}\n",
    "\\mu_{x0} = n_x - \\sum_{y}\\mu _{xy}\\leq n_{x} \\\\\n",
    "\\mu_{0y} = m_y - \\sum_{x}\\mu _{xy}\\leq m_{y}.\n",
    "\\end{array}\n",
    "\\right. $\n",
    "\n",
    "the number of unassigned individuals of each type.\n",
    "\n",
    "Next, we shall be looking for equilibrium conditions on $\\mu_{xy}$ and $w_{xy}$.\n"
   ]
  },
  {
   "cell_type": "markdown",
   "metadata": {},
   "source": [
    "# The Becker model\n",
    "\n",
    "Introduce $u_x$ and $v_y$ the indirect utilities of $x$ and $y$, respectively:\n",
    "\n",
    "$u_x = \\max_{y}\\left\\{ \\alpha _{xy}+w_{xy}, 0 \\right\\}$\n",
    "\n",
    "$v_y = \\max_{x}\\left\\{ \\gamma _{xy}-w_{xy},0\\right\\}$\n",
    "\n",
    "We have\n",
    "\n",
    "$u_x + v_y \\geq \\Phi_{xy}$, with equality if $\\mu_{xy}>0$, and\n",
    "\n",
    "$u_x \\geq 0$ with equality if $\\mu_{x0} >0$, and\n",
    "\n",
    "$v_y \\geq 0$ with equality if $\\mu_{0y} >0$.\n"
   ]
  },
  {
   "cell_type": "markdown",
   "metadata": {},
   "source": [
    "## Equilibrium in the Becker model\n",
    "\n",
    "To recap, $\\left( \\mu ,u,v\\right) $ is an equilibrium matching iff\n",
    "\n",
    "(1) quantities $\\mu $ satisfy the populations constraints:\n",
    "\n",
    "$\\left\\{\n",
    "\\begin{array}{l}\n",
    "\\sum_{y}\\mu _{xy} + \\mu_{x0} = n_{x} \\\\\n",
    "\\sum_{x}\\mu _{xy} + \\mu_{0y} = m_{y}\n",
    "\\end{array}\n",
    "\\right. $\n",
    "\n",
    "(2) utilities $(u,v)$ satisfy pairwise stability:\n",
    "\n",
    "$\\left\\{\n",
    "\\begin{array}{l}\n",
    "u_{x}+v_{y}\\geq \\Phi _{xy}, \\forall x,y \\\\\n",
    "u_{x}\\geq 0, \\forall x \\\\\n",
    "v_{y}\\geq 0, \\forall y\n",
    "\\end{array}\n",
    "\\right. $\n",
    "\n",
    "(3) the complementarity conditions hold:\n",
    "\n",
    "$\\left\\{\n",
    "\\begin{array}{l}\n",
    "\\mu _{xy}>0\\implies u_{x}+v_{y}=\\Phi _{xy} \\\\\n",
    "\\mu _{x0}>0\\implies u_{x}=0 \\\\\n",
    "\\mu _{0y}>0\\implies v_{y}=0.\n",
    "\\end{array}\n",
    "\\right. $\n"
   ]
  },
  {
   "cell_type": "markdown",
   "metadata": {},
   "source": [
    "### Linear programming formulation\n",
    "\n",
    "Noting that the above conditions are complementary slackness conditions in linear programming, one has:\n",
    "\n",
    "**Theorem (Becker-Shapley-Shubik)**. In the equilibrium problem above, $\\mu$ and $(u,v)$ are the resepctive optimal solutions associated with the following primal and dual linear programming\n",
    "problems:<br>\n",
    "$\n",
    "\\begin{array}{l}\n",
    "\\max_{\\mu \\geq 0} &&\\sum_{xy}\\mu _{xy}\\Phi _{xy} \\\\\n",
    "&&\\sum_{y}\\mu _{xy}\\leq n_{x}~\\left[ u_{x}\\geq 0\\right] \\\\\n",
    "&&\\sum_{x}\\mu _{xy}\\leq m_{y}~\\left[ v_{y}\\geq 0\\right]\n",
    "\\end{array}\n",
    "$\n",
    "\n",
    "and<br>\n",
    "$\\begin{array}{l}\n",
    "\\min_{u\\geq 0,v\\geq 0} &&\\sum n_{x}u_{x}+\\sum m_{y}v_{y} \\\\\n",
    "s.t.~ &&u_{x}+v_{y}\\geq \\Phi _{xy}~\\left[ \\mu _{xy}\\geq 0\\right]\n",
    "\\end{array}\n",
    "$\n",
    "<br>\n",
    "<br>\n",
    "Interpretation as a *welfare theorem*: coincidence of the central planner's solution and the decentralized solution."
   ]
  },
  {
   "cell_type": "markdown",
   "metadata": {},
   "source": [
    "### Computation\n",
    "\n",
    "Setting $z=vec\\left(  \\mu\\right)$, the Linear Programming problem then becomes\n",
    "\n",
    "$\n",
    "\\begin{array}{l}\n",
    "&  \\max_{z\\geq0}vec\\left(  \\Phi\\right)  ^{\\top}z\\\\\n",
    "s.t.~  &  \\left(  1_{\\mathcal{Y} }^{\\top}\\otimes I_{\\mathcal{X}}\\right)  z\\leq n\n",
    "\\nonumber\\\\\n",
    "&  \\left(  I_{\\mathcal{Y}}\\otimes1_{\\mathcal{X}}^{\\top}\\right)  z \\leq m\n",
    "\\nonumber\n",
    "\\end{array}\n",
    "$\n",
    "\n",
    "which is ready to be passed on to a linear programming solver. See chapter 3 of [OTME]."
   ]
  },
  {
   "cell_type": "code",
   "execution_count": 2,
   "metadata": {},
   "outputs": [
    {
     "name": "stdout",
     "output_type": "stream",
     "text": [
      "Academic license - for non-commercial use only - expires 2021-08-15\n",
      "Using license file C:\\Users\\alfre\\gurobi.lic\n",
      "Gurobi Optimizer version 9.1.1 build v9.1.1rc0 (win64)\n",
      "Thread count: 4 physical cores, 8 logical processors, using up to 8 threads\n",
      "Optimize a model with 80 rows, 1500 columns and 3000 nonzeros\n",
      "Model fingerprint: 0x7fbb26ba\n",
      "Coefficient statistics:\n",
      "  Matrix range     [1e+00, 1e+00]\n",
      "  Objective range  [5e-01, 2e+00]\n",
      "  Bounds range     [0e+00, 0e+00]\n",
      "  RHS range        [1e+00, 1e+00]\n",
      "Presolve time: 0.01s\n",
      "Presolved: 80 rows, 1500 columns, 3000 nonzeros\n",
      "\n",
      "Iteration    Objective       Primal Inf.    Dual Inf.      Time\n",
      "       0    2.0620882e+33   3.000000e+33   2.062088e+03      0s\n",
      "     110    4.8836460e+01   0.000000e+00   0.000000e+00      0s\n",
      "\n",
      "Solved in 110 iterations and 0.02 seconds\n",
      "Optimal objective  4.883645976e+01\n"
     ]
    }
   ],
   "source": [
    "# !pip install gurobipy\n",
    "import gurobipy as grb\n",
    "import scipy.sparse as spr\n",
    "\n",
    "N = Φ_x_y.shape[0]\n",
    "M = Φ_x_y.shape[1]\n",
    "\n",
    "A1 = spr.kron(spr.identity(N),np.array(np.repeat(1,M)))\n",
    "A2 = spr.kron(np.array(np.repeat(1,N)),spr.identity(M))\n",
    "A = spr.vstack([A1, A2])\n",
    "\n",
    "d = np.concatenate((n_x,m_y), axis = None)\n",
    "\n",
    "obj = Φ_x_y.flatten()\n",
    "\n",
    "m=grb.Model()\n",
    "x = m.addMVar(shape=len(obj), name=\"x\")\n",
    "m.setObjective(obj @ x, grb.GRB.MAXIMIZE)\n",
    "rhs = d\n",
    "m.addConstr(A @ x <= rhs, name=\"Constr\")\n",
    "m.optimize()                \n",
    "    "
   ]
  },
  {
   "cell_type": "markdown",
   "metadata": {},
   "source": [
    "We can extract $\\mu$ and $(u,v)$ in the following manner:"
   ]
  },
  {
   "cell_type": "code",
   "execution_count": 3,
   "metadata": {},
   "outputs": [
    {
     "name": "stdout",
     "output_type": "stream",
     "text": [
      "[[0. 0. 0. 0. 0. 0. 0. 0. 0. 0.]\n",
      " [0. 0. 0. 0. 0. 0. 0. 0. 0. 0.]\n",
      " [0. 0. 0. 0. 0. 0. 0. 0. 0. 0.]\n",
      " [0. 0. 0. 0. 0. 0. 0. 0. 1. 0.]\n",
      " [0. 1. 0. 0. 0. 0. 0. 0. 0. 0.]]\n",
      "[0.         0.         0.         0.19230066 0.10627652 0.05214333\n",
      " 0.00798574 0.         0.182488   0.05674175]\n",
      "[1.48349568 1.28994117 1.35458853 1.60641385 1.48682969 1.6658138\n",
      " 1.72295049 1.20947102 1.23578919 1.87476937]\n"
     ]
    }
   ],
   "source": [
    "if m.status == grb.GRB.Status.OPTIMAL:\n",
    "    μ_x_y = np.array(m.getAttr('x')).reshape(N,M)\n",
    "    u_x = np.array(m.getAttr('pi'))[0:N]\n",
    "    v_y = np.array(m.getAttr('pi'))[N:(N+M)]\n",
    "    \n",
    "print(μ_x_y[:5,:10])\n",
    "print(u_x[:10])\n",
    "print(v_y[:10])"
   ]
  },
  {
   "cell_type": "markdown",
   "metadata": {},
   "source": [
    "## The Choo-Siow model\n",
    "\n",
    "\n",
    "Introduce logit random utilities in the problems of workers and firms. We have:\n",
    "\n",
    "\n",
    "$u_x = \\mathbb{E} \\left[ \\max_{y}\\left\\{ \\alpha _{xy}+w_{xy} + T \\varepsilon_y, T \\varepsilon_0 \\right\\} \\right] $ \n",
    "\n",
    "$v_y = \\mathbb{E} \\left[ \\max_{x}\\left\\{ \\gamma _{xy}-w_{xy} + T \\eta_y,T \\eta_0\\right\\} \\right]$\n",
    "\n",
    "where $\\epsilon$ and $\\eta$ are random vectors of i.i.d. Gumbel distributions. We have\n",
    "\n",
    "$u_{x}=T\\log \\left( 1+\\sum_{y}\\exp \\left( \\frac{\\alpha _{xy}+w_{xy}}{T}%\n",
    "\\right) \\right)  $\n",
    "\n",
    "$v_{y}=T\\log \\left( 1+\\sum_{x}\\exp \\left( \\frac{\\gamma _{xy}-w_{xy}}{T}%\n",
    "\\right) \\right). $\n",
    "\n"
   ]
  },
  {
   "cell_type": "markdown",
   "metadata": {},
   "source": [
    "### Choice probabilities\n",
    "\n",
    "We have\n",
    "\n",
    "$\\frac {\\mu_{xy}} {n_x} = \\Pr \\left( y \\text{ chosen by } x \\right) =\\frac{\\exp \\left( \\frac{\\alpha\n",
    "_{xy}+w_{xy}}{T}\\right) }{1+\\sum_{y}\\exp \\left( \\frac{\\alpha _{xy}+w_{xy}}{T}\n",
    "\\right) } = \\exp \\left( \\frac{\\alpha _{xy}+w_{xy}-u_{x}}{T}\\right)$\n",
    "\n",
    "$ \\frac {\\mu_{x0}} {n_x} = \\Pr \\left( 0 \\text{ chosen by } x \\right) = \\frac{1}{1+\\sum_{y}\\exp \\left(\n",
    "\\frac{\\alpha _{xy}+w_{xy}}{T}\\right) } \n",
    "=\\exp \\left( -\\frac{u_{x}} {T} \\right) $\n",
    "\n",
    "and \n",
    "\n",
    "$\\frac {\\mu_{xy}} {m_y} = \\Pr \\left( x \\text{ chosen by } y \\right) =\\frac{\\exp \\left( \\frac{\\gamma\n",
    "_{xy} - w_{xy}}{T}\\right) }{1+\\sum_{x}\\exp \\left( \\frac{\\gamma _{xy} - w_{xy}}{T}\n",
    "\\right) } = \\exp \\left( \\frac{\\gamma _{xy} - w_{xy}-v_{y}}{T}\\right)$\n",
    "\n",
    "$ \\frac {\\mu_{0y}} {m_y} = \\Pr \\left( 0 \\text{ chosen by } y \\right) = \\frac{1}{1+\\sum_{x}\\exp \\left(\n",
    "\\frac{\\gamma _{xy} - w_{xy}}{T}\\right) } \n",
    "=\\exp \\left( -\\frac{v_{y}} {T} \\right) $\n",
    "\n"
   ]
  },
  {
   "cell_type": "markdown",
   "metadata": {},
   "source": [
    "### Matching functions\n",
    "\n",
    "Write \n",
    "\n",
    "$ \\frac {\\mu_{xy}^2 } {n_x m_y} = \\Pr \\left( y \\text{ chosen by } x \\right) . \\Pr \\left( x \\text{ chosen by } y \\right) \\\\\n",
    "=\\exp \\left( \\frac{\\alpha _{xy} + w_{xy}-u_{x}}{T}\\right) . \\exp \\left( \\frac{\\gamma _{xy} - w_{xy}-v_{y}}{T}\\right) =  \\exp \\left( \\frac{\\Phi _{xy} - u_{x}-v_{y}}{T}\\right)  $\n",
    "\n",
    "and as a result, $\\mu_{xy} = M_{xy}(\\mu_{x0}\\mu_{0y})$, where the functions<br>\n",
    "$M_{xy}(\\mu_{x0}\\mu_{0y}):= \\sqrt{\\mu_{x0} \\mu_{0y}} \\exp \\left( \\frac{\\Phi _{xy}}{2T}\\right) $\n",
    "\n",
    "relate the number of matched pairs of type $xy$ to number of unmatched agents of respective types $x$ and $y$. They are called *matching functions*.\n"
   ]
  },
  {
   "cell_type": "markdown",
   "metadata": {},
   "source": [
    "Introduce<br>\n",
    "$ a_{x} = u_{x}-T\\ln n_{x}\\text{ and }b_{y} = v_{y}-T\\ln m_{y}$<br>\n",
    "so that we have\n",
    "\n",
    "$\\mu_{xy} = \\exp(\\frac {\\Phi_{xy} - a_x - b_y} {2T} )$<br>\n",
    "$\\mu_{x0} = \\exp(\\frac {- a_x} {T}),~\\mu_{0y} = \\exp(\\frac {- b_y} {T})$\n",
    "\n",
    "\n",
    "**Theorem (Choo-Siow)**. At equilibrium, the quantities $a_x$ and $b_y$ defined above solve the following system of equations<br>\n",
    "$\\left\\{\n",
    "\\begin{array}\n",
    "[c]{l}%\n",
    "n_x = \\exp(\\frac {- a_x} {T}) + \\sum_{y\\in \\mathcal{Y}}\\exp(\\frac {\\Phi_{xy} - a_x - b_y} {2T} )\\\\\n",
    "m_y = \\exp(\\frac {- b_y} {T}) + \\sum_{x\\in \\mathcal{X}}\\exp(\\frac {\\Phi_{xy} - a_x - b_y} {2T} )\n",
    "\\end{array}\n",
    "\\right.$\n",
    "\n"
   ]
  },
  {
   "cell_type": "markdown",
   "metadata": {},
   "source": [
    "## The class `ChooSiow_model`\n",
    "\n",
    "We encode the problem into:"
   ]
  },
  {
   "cell_type": "code",
   "execution_count": 4,
   "metadata": {},
   "outputs": [],
   "source": [
    "class ChooSiow_model:\n",
    "    def __init__(self,Φ_x_y,n_x=np.array([]),m_y=np.array([]),T=1):\n",
    "        if n_x.size == 0:\n",
    "            n_x = np.ones(Φ_x_y.shape[0])\n",
    "        if m_y.size == 0:\n",
    "            m_y = np.ones(Φ_x_y.shape[1])    \n",
    "        self.n_x = n_x\n",
    "        self.m_y = m_y\n",
    "        self.nbx = n_x.size\n",
    "        self.nby = m_y.size\n",
    "        self.Φ_x_y = Φ_x_y\n",
    "        self.T = T\n",
    "        self.K_x_y = np.exp(Φ_x_y / (2*T) )\n",
    "        self.eq_a_x = np.array([])\n",
    "        self.eq_b_y = np.array([])        \n",
    "        self.eq_μ_x0 = np.array([])\n",
    "        self.eq_μ_0y = np.array([])\n",
    "        self.eq_μ_x_y = np.array([])\n",
    "        self.eq_deltamarg_x = np.array([])\n",
    "        self.eq_deltamarg_y = np.array([])\n",
    "        self.eq_deltainvmarg_x = np.array([])\n",
    "        self.eq_deltainvmarg_y = np.array([])\n",
    "        self.comp_code = -1\n",
    "        self.comp_nbsteps = -1\n",
    "        self.comp_time = -1.0"
   ]
  },
  {
   "cell_type": "markdown",
   "metadata": {},
   "source": [
    "We create a method `M_x_y` which we append to the `ChooSiow_model` class:"
   ]
  },
  {
   "cell_type": "code",
   "execution_count": 5,
   "metadata": {},
   "outputs": [],
   "source": [
    "def M_x_y(self,μ_x0,μ_0y):\n",
    "    μ_x_y = np.zeros((self.nbx,self.nby))\n",
    "    for x in range(self.nbx):\n",
    "        for y in range(self.nby):\n",
    "            μ_x_y[x,y] = self.K_x_y[x,y] * np.sqrt(μ_x0[x] * μ_0y[y])\n",
    "    return(μ_x_y)\n",
    "####################\n",
    "ChooSiow_model.M_x_y = M_x_y\n",
    "mkt = ChooSiow_model(Φ_x_y)"
   ]
  },
  {
   "cell_type": "markdown",
   "metadata": {},
   "source": [
    "## The Choo-Siow model as an optimization problem\n",
    "\n",
    "One can reformulate the  previous equations are the first order conditions of the following optimization problem:<br>\n",
    "<br>\n",
    "**Theorem (Galichon-Salanié)**. Choo and Siow's equations are the first order conditions associated to the following convex optimization problem:<br>\n",
    "$W(\\Phi) = \\min_{a,b} f(a,b) $<br>\n",
    "where<br>\n",
    "$f(a,b):= \\left\\{ \\sum_x a_x n_x + \\sum_y b_y m_y + 2T \\sum_{xy} e^{ \\frac {\\Phi_{xy} - a_x - b_y} {2T} }+ T \\sum_x e^{\\frac {-a_x} {T}} + T \\sum_y e^{\\frac {-b_y} {T}} \\right\\}$\n",
    "<br>\n",
    "whose dual program is:<br>\n",
    "$\\begin{array}{l}W(\\Phi) = \n",
    "\\max_\\mu &&\\sum_{x,y} \\mu_{xy} \\Phi_{xy}- 2T \\sum_{x,y} \\mu_{xy} \\log \\mu_{xy} - T \\sum_x \\mu_{x0} \\log \\mu_{x0} - T \\sum_y \\mu_{0y} \\log \\mu_{0y}\\\\\n",
    "s.t.~ &&\\sum_{y} \\mu_{xy} + \\mu_{x0}  = n_x \\\\\n",
    "&&\\sum_{x} \\mu_{xy} + \\mu_{0y} = m_y. \\\\\n",
    "\\end{array}\n",
    "$"
   ]
  },
  {
   "cell_type": "markdown",
   "metadata": {},
   "source": [
    "### Remark\n",
    "\n",
    "Note that, setting $A_x =\\exp(-a_x / (2T)) $ and $B_y =\\exp(-b_y / (2T)) $, the problem rewrites equivalently as<br>\n",
    "$\\min_{A,B} F(A,B)$<br>\n",
    "where<br>\n",
    "$F(A,B):= \\left\\{ - \\sum_x n_x \\log A_x  - \\sum_y m_y \\log B_y + 2 \\sum_{xy} K_{xy} A_x B_y + \\sum_x A^2_x + \\sum_y B^2_y \\right\\}$<br>\n",
    "where $K_{xy} = T \\exp( \\Phi_{xy} / (2T) ).$<br>\n",
    "One has:<br>\n",
    "$\\frac{ \\partial F} {\\partial A_x}  = 2 A_x - \\frac {n_x} {A_x} + \\sum_y K_{xy} B_y$<br>\n",
    "$\\frac{ \\partial F} {\\partial B_y}  = 2 B_y - \\frac {m_y} {B_y} + \\sum_x K_{xy} A_x,$\n"
   ]
  },
  {
   "cell_type": "code",
   "execution_count": 6,
   "metadata": {},
   "outputs": [],
   "source": [
    "from scipy.optimize import minimize\n",
    "from time import time\n",
    "\n",
    "def f(self,ab_z):\n",
    "    a_x = ab_z[0:self.nbx]\n",
    "    b_y = ab_z[self.nbx:(self.nbx+self.nby)]\n",
    "    μ_x0 = np.exp( - a_x /  self.T )\n",
    "    μ_0y = np.exp( - b_y / self.T )\n",
    "    μ_x_y = self.M_x_y(μ_x0 , μ_0y)  \n",
    "    return( np.sum(self.n_x * a_x ) + np.sum(self.m_y * b_y ) + 2* np.sum( μ_x_y) + np.sum(μ_x0 ) + np.sum(μ_0y ) )\n",
    "\n",
    "ChooSiow_model.f = f\n",
    "\n",
    "def gradf_xy(self,ab_z):\n",
    "    a_x = ab_z[0:self.nbx]\n",
    "    b_y = ab_z[self.nbx:(self.nbx+self.nby)]\n",
    "    μ_x0 = np.exp( - a_x /  self.T )\n",
    "    μ_0y = np.exp( - b_y / self.T )\n",
    "    μ_x_y = self.M_x_y(μ_x0 , μ_0y)  \n",
    "    dGda_x = self.n_x - μ_x0 - np.sum( μ_x_y , 1)\n",
    "    dGdb_y = self.m_y - μ_0y - np.sum( μ_x_y , 0)\n",
    "    return(np.append(dGda_x,dGdb_y))\n",
    "\n",
    "ChooSiow_model.gradf_xy = gradf_xy"
   ]
  },
  {
   "cell_type": "markdown",
   "metadata": {},
   "source": [
    "We now build a method to solve for equilibrium via the optimization problem:"
   ]
  },
  {
   "cell_type": "code",
   "execution_count": 7,
   "metadata": {},
   "outputs": [],
   "source": [
    "def solveOptim(self):\n",
    "    start_time = time()\n",
    "    uv0_z = np.zeros(self.nbx+self.nby)\n",
    "    res = minimize(self.f, uv0_z,  method='BFGS', jac = self.gradf_xy)\n",
    "    if res.success == False:\n",
    "        print('Failed to converge')\n",
    "    else:\n",
    "        comp_time = time() - start_time\n",
    "        a_x = res.x[0:self.nbx]\n",
    "        b_y = res.x[self.nbx:(self.nbx+self.nby)]\n",
    "        μ_x0 = np.exp( - a_x /  self.T )\n",
    "        μ_0y = np.exp( - b_y / self.T )\n",
    "        μ_x_y = self.M_x_y(μ_x0,μ_0y) \n",
    "        self.eq_a_x = a_x\n",
    "        self.eq_b_y = b_y\n",
    "        self.eq_μ_x0 = np.exp(- a_x / self.T)\n",
    "        self.eq_μ_0y = np.exp(- b_y / self.T)\n",
    "        self.eq_μ_x_y = μ_x_y       \n",
    "        self.eq_deltamarg_x = self.n_x - μ_x0 - np.sum( μ_x_y , 1)\n",
    "        self.eq_deltamarg_y = self.m_y - μ_0y - np.sum( μ_x_y , 0)\n",
    "        self.comp_time = comp_time\n",
    "    return(res.status)\n",
    "\n",
    "ChooSiow_model.solveOptim = solveOptim"
   ]
  },
  {
   "cell_type": "markdown",
   "metadata": {},
   "source": [
    "Run it on our example:"
   ]
  },
  {
   "cell_type": "code",
   "execution_count": 8,
   "metadata": {},
   "outputs": [
    {
     "name": "stdout",
     "output_type": "stream",
     "text": [
      "-0.2002850494011169 41.8466363028795\n"
     ]
    }
   ],
   "source": [
    "mkt.solveOptim()\n",
    "mkt.eq_μ_x0\n",
    "\n",
    "A = np.sum(mkt.eq_μ_x_y * α_x_y)\n",
    "B = np.sum(mkt.eq_μ_x_y * γ_x_y)\n",
    "print(A,B)"
   ]
  },
  {
   "cell_type": "markdown",
   "metadata": {},
   "source": [
    "## The Choo-Siow model as an equilibrium problem with GS\n",
    "\n",
    "Can we reformulate as a competitive equilibrium problem with Gross Substitutes? Let's explore the model we are trying to solve."
   ]
  },
  {
   "cell_type": "code",
   "execution_count": 9,
   "metadata": {},
   "outputs": [
    {
     "name": "stdout",
     "output_type": "stream",
     "text": [
      "[[3.3 0.  0.  0.5 0.6 0.5 0.6]\n",
      " [0.  4.  0.  0.8 0.8 0.7 0.7]\n",
      " [0.  0.  3.3 0.6 0.7 0.5 0.5]\n",
      " [0.5 0.8 0.6 2.9 0.  0.  0. ]\n",
      " [0.6 0.8 0.7 0.  3.1 0.  0. ]\n",
      " [0.5 0.7 0.5 0.  0.  2.8 0. ]\n",
      " [0.6 0.7 0.5 0.  0.  0.  2.9]]\n"
     ]
    }
   ],
   "source": [
    "#!pip3 install numdifftools\n",
    "nbx,nby = 3,4\n",
    "np.random.seed(777)\n",
    "\n",
    "import numdifftools as nd\n",
    "toymodel = ChooSiow_model(np.array( np.random.rand(nbx,nby)).reshape((nbx,nby)))\n",
    "theFun = lambda arg: (toymodel.f(arg) )\n",
    "theHessian = nd.Hessian(theFun)(np.zeros(nbx+nby)).round(1)\n",
    "H_11 = theHessian[0:nbx,0:nbx]\n",
    "H_12 = theHessian[0:nbx,nbx:(nbx+nby)]\n",
    "H_21 = theHessian[nbx:(nbx+nby),0:nbx]\n",
    "H_22 = theHessian[nbx:(nbx+nby),nbx:(nbx+nby)]\n",
    "print(theHessian)\n"
   ]
  },
  {
   "cell_type": "markdown",
   "metadata": {},
   "source": [
    "We see that the matrix is of the form\n",
    "\n",
    "$\\begin{pmatrix}\n",
    "H_{11} & H_{12} \\\\\n",
    "H_{21} & H_{22}\n",
    "\\end{pmatrix}$\n",
    "\n",
    "where $H_{11}$ and $H_{22}$ are diagonal matrices with positive diagonal terms, and $H_{12}$ and $H_{21}$ are matrices with nonnegative entries.\n",
    "\n",
    "Further, note that $H_{12}$ and $H_{21}$ are transpose to each other.\n"
   ]
  },
  {
   "cell_type": "code",
   "execution_count": 10,
   "metadata": {},
   "outputs": [
    {
     "name": "stdout",
     "output_type": "stream",
     "text": [
      "[[0.5 0.6 0.5 0.6]\n",
      " [0.8 0.8 0.7 0.7]\n",
      " [0.6 0.7 0.5 0.5]]\n",
      "[[0.5 0.6 0.5 0.6]\n",
      " [0.8 0.8 0.7 0.7]\n",
      " [0.6 0.7 0.5 0.5]]\n"
     ]
    }
   ],
   "source": [
    "print(H_12)\n",
    "print(H_21.transpose())"
   ]
  },
  {
   "cell_type": "markdown",
   "metadata": {},
   "source": [
    "### The change-of-sign trick\n",
    "\n",
    "Define $p\\in \\mathbb{R}^{\\mathcal{X}\\cup\\mathcal{Y}}$ by<br>\n",
    "$p_x = a_x, x\\in\\mathcal{X}$<br>\n",
    "$p_y = -b_y, y\\in\\mathcal{Y}$<br>\n",
    "and define $q \\in \\mathbb{R}^{\\mathcal{X}\\cup\\mathcal{Y}}$ by<br>\n",
    "$q_x = -n_x, x\\in\\mathcal{X}$<br>\n",
    "$q_y = b_y, y\\in\\mathcal{Y}.$<br>\n",
    "\n",
    "Define<br>\n",
    "$\\left\\{\n",
    "\\begin{array}\n",
    "[c]{l}%\n",
    "Q_x(p) = - \\exp(\\frac {- p_x} {T}) - \\sum_{y\\in \\mathcal{Y}}\\exp(\\frac {\\Phi_{xy} - p_x + p_y} {2T} )\\\\\n",
    "Q_y(p) = \\exp(\\frac {p_y} {T}) + \\sum_{x\\in \\mathcal{X}}\\exp(\\frac {\\Phi_{xy} - p_x +p_y} {2T} )\n",
    "\\end{array}\n",
    "\\right. $\n",
    "\n",
    "so that the equilibrium problem reformulates as<br>\n",
    "$Q(p)=q.$"
   ]
  },
  {
   "cell_type": "markdown",
   "metadata": {},
   "source": [
    "In terms of Jacobian of the system, this amounts to \n",
    "\n",
    "$\\begin{pmatrix}\n",
    "H_{11} & - H_{12} \\\\\n",
    "- H_{21} & H_{22}\n",
    "\\end{pmatrix}$\n"
   ]
  },
  {
   "cell_type": "markdown",
   "metadata": {},
   "source": [
    "## Coordinate update algorithm\n",
    "\n",
    "Let's initialize $p_{x}^{0}=-T\\ln n_{x}$ and $p_{y}^{0}=-\\infty $.\n",
    "\n",
    "Then update $p_{y}^{1}$ so that $Q_{y}\\left( \\left( p_{x}^{0}\\right)\n",
    "_{x},p_{y}^{1}\\right) =q_{y}$($=m_{y})$.\n",
    "\n",
    "we solve $\\sum \\exp \\left( \\Phi _{xy}-p_{x}^{0}+p_{y}^{1}\\right) +\\exp\n",
    "\\left( p_{y}^{1}\\right) =m_{y}$\n",
    "\n",
    "Because the value of $p_{y}^{1}$ is finite, we have $p_{y}^{0}=-\\infty \\leq p_{y}^{1}$\n",
    "\n",
    "Then update $p_{x}^{1}$ so that $Q_{x}\\left( p_{x}^{1},\\left(\n",
    "p_{y}^{1}\\right) _{y}\\right) =q_{x}$($=-n_{x}$). We have\n",
    "\n",
    "$\\sum_{y}\\exp \\left( \\Phi _{xy}-p_{x}^{1}+p_{y}^{1}\\right) +\\exp \\left( -%\n",
    "\\frac{p_{x}^{1}}{T}\\right) =n_{x}\\geq \\exp \\left( -\\frac{p_{x}^{1}}{T}%\n",
    "\\right) $\n",
    "\n",
    "thus $\\exp \\left( -\\frac{p_{x}^{0}}{T}\\right) =n_{x}\\geq \\exp \\left( -\\frac{%\n",
    "p_{x}^{1}}{T}\\right) $\n",
    "\n",
    "thus $p_{x}^{0}\\leq p_{x}^{1}$\n",
    "\n",
    "We have $m_{y}\\geq \\exp \\left( p_{y}/T\\right) $, thus $p_{y}\\leq T\\ln m_{y}$.\n"
   ]
  },
  {
   "cell_type": "markdown",
   "metadata": {},
   "source": [
    "Set $p_{y}=-b_{y}$ for $y\\in Y$\n",
    "\n",
    "$\\left\\{\n",
    "\\begin{array}{l}\n",
    "Q_{x}\\left( p\\right) = -\\sum_{y}\\exp \\left( \\frac{\\Phi _{xy}-p_{x}+p_{y}}{2T}\\right) -\\exp \\left( -\\frac{p_{x}}{T}\\right) \\\\\n",
    "Q_{y}\\left( p\\right) = \\sum_{x}\\exp \\left( \\frac{\\Phi _{xy}-p_{x}+p_{y}}{2T}%\n",
    "\\right) +\\exp \\left( \\frac{p_{y}}{T}\\right)\n",
    "\\end{array}\n",
    "\\right.$\n",
    "\n",
    "We have\n",
    "\n",
    "$DQ=\n",
    "\\begin{pmatrix}\n",
    "\\frac{\\partial e_{x}}{\\partial p_{x}} & \\frac{\\partial e_{x}}{\\partial p_{y}}\n",
    "\\\\\n",
    "\\left( \\frac{\\partial e_{x}}{\\partial p_{y}}\\right) ^{\\top } & \\frac{%\n",
    "\\partial e_{y}}{\\partial p_{y}}%\n",
    "\\end{pmatrix}\n",
    "=\n",
    "\\begin{pmatrix}\n",
    "diag\\left( \\frac{1}{2T}\\exp \\left( \\frac{\\Phi _{xy}-p_{x}+p_{y}}{2T}\\right) +\n",
    "\\frac{1}{T}\\exp \\left( -\\frac{p_{x}}{T}\\right) \\right) &  \\\\\n",
    "-\\frac{1}{2T}\\exp \\left( \\frac{\\Phi _{xy}-p_{x}+p_{y}}{2T}\\right) &\n",
    "diag\\left( \\frac{1}{2T}\\exp \\left( \\frac{\\Phi _{xy}-p_{x}+p_{y}}{2T}\\right) +\n",
    "\\frac{1}{T}\\exp \\left( \\frac{p_{y}}{T}\\right) \\right)\n",
    "\\end{pmatrix}$\n"
   ]
  },
  {
   "cell_type": "markdown",
   "metadata": {},
   "source": [
    "## Gauss-Seidel algorithm\n",
    "\n",
    "The algorithm runs as follows:\n",
    "\n",
    "* Solve for $a_{x}$ in the 1st set of equations\n",
    "$\\sum_{y}\\exp \\left( \\frac{\\Phi _{xy}-a_{x}-b_{y}}{2T}\\right) + \\exp \\left( -\\frac{a_{x}}{T}\\right) = n_{x}\n",
    "$\n",
    "\n",
    "* Solve for $b_{y}$ in the 2nd set of equations\n",
    "$\\sum_{x}\\exp \\left( \\frac{\\Phi _{xy}-a_{x}-b_{y}}{2T}\\right) +\\exp \\left( -\\frac{b_{y}}{T}\\right) =m_{y}\n",
    "$\n",
    "\n",
    "These equations can be solved explicitly. Introduce $K_{xy}=\\exp \\left( \\frac{\\Phi _{xy}}{2T}\\right)$ and new unknowns<br>\n",
    "$A_{x}=\\exp \\left( -\\frac{a_{x}}{2T}\\right),~B_{y}=\\exp \\left( -\\frac{b_{y}}{2T}\\right)$\n",
    "\n",
    "we have\n",
    "\n",
    "$\\sum_{y}K_{xy}A_{x}B_{y}+A_{x}^{2} = n_{x} \\\\\n",
    "\\sum_{x}K_{xy}A_{x}B_{y}+B_{y}^{2} = m_{y}\n",
    "$\n",
    "\n",
    "thus\n",
    "\n",
    "$\n",
    "A_{x} = \\sqrt{n_{x}+\\left( \\frac{1}{2}\\sum_{y}K_{xy}B_{y}\\right) ^{2}}-\n",
    "\\frac{1}{2}\\sum_{y}K_{xy}B_{y} \\\\\n",
    "B_{y} = \\sqrt{m_{y}+\\left( \\frac{1}{2}\\sum_{x}K_{xy}A_{y}\\right) ^{2}}-\n",
    "\\frac{1}{2}\\sum_{x}K_{xy}A_{y}\n",
    "$\n",
    "\n"
   ]
  },
  {
   "cell_type": "markdown",
   "metadata": {},
   "source": [
    "We create a method implementing the Gauss-Seidel algorithm:"
   ]
  },
  {
   "cell_type": "code",
   "execution_count": 11,
   "metadata": {},
   "outputs": [],
   "source": [
    "def solveIPFP(self, maxit = 1000,maxvaltol=1e-5,maxsteptol=1e-9,output=0):\n",
    "    start_time = time()\n",
    "    code = 0\n",
    "    deltainvmarg_x = np.zeros(self.nbx)\n",
    "    deltainvmarg_y = np.zeros(self.nby)\n",
    "    A_x = np.ones(self.nbx)\n",
    "    B_y = np.ones(self.nby)\n",
    "    for i in range(maxit):\n",
    "        \n",
    "        KThalfA_y = (self.K_x_y.transpose() @ A_x).flatten() / 2\n",
    "        newB_y = np.sqrt(self.m_y + KThalfA_y * KThalfA_y ) - KThalfA_y\n",
    "        deltainvmarg_y = newB_y - B_y\n",
    "        B_y = newB_y\n",
    "        \n",
    "        KBhalf_x = (self.K_x_y @ B_y).flatten() / 2\n",
    "        newA_x = np.sqrt(self.n_x + KBhalf_x * KBhalf_x ) - KBhalf_x\n",
    "        deltainvmarg_x = newA_x - A_x\n",
    "        A_x = newA_x\n",
    "        \n",
    "        deltamarg_y = KThalfA_y * B_y  + B_y * B_y  - m_y\n",
    "        steptol = np.max(np.abs( np.append(deltainvmarg_x,deltainvmarg_y) ) ) \n",
    "        valtol = np.max(np.abs(deltamarg_y) )\n",
    "        \n",
    "        if output > 1 :\n",
    "            print(\"μ_x0=\",μ_x0)\n",
    "        if valtol < maxvaltol :\n",
    "            code = 0\n",
    "            break\n",
    "        if steptol < maxsteptol :\n",
    "            code = 1\n",
    "            break\n",
    "        code = 2    \n",
    "    comp_time = time() - start_time\n",
    "    if output > 0 :\n",
    "        print( 'IPFP converged in', i, 'iterations and ',comp_time,' seconds.')\n",
    "        print('Max absolute margin discrepancy=', valtol)            \n",
    "        print('Max absolute update discrepancy =',steptol)\n",
    "        print('Code =',code)\n",
    "\n",
    "    μ_x0 = A_x * A_x\n",
    "    μ_0y = B_y * B_y\n",
    "    μ_x_y = self.M_x_y(μ_x0,μ_0y)\n",
    "    self.eq_μ_x0 = μ_x0\n",
    "    self.eq_μ_0y = μ_0y\n",
    "    self.eq_μ_x_y = μ_x_y\n",
    "    self.eq_a_x = - self.T * np.log(μ_x0)\n",
    "    self.eq_b_y = - self.T * np.log(μ_0y)\n",
    "    self.eq_deltamarg_x = self.n_x - μ_x0 - np.sum( μ_x_y , 1)\n",
    "    self.eq_deltamarg_y = self.m_y - μ_0y - np.sum( μ_x_y , 0)\n",
    "    self.eq_deltainvmarg_x = deltainvmarg_x\n",
    "    self.eq_deltainvmarg_y = deltainvmarg_y\n",
    "    self.comp_code = code\n",
    "    self.comp_nbsteps = i\n",
    "    self.comp_time = comp_time\n",
    "    return code\n",
    "\n",
    "ChooSiow_model.solveIPFP = solveIPFP"
   ]
  },
  {
   "cell_type": "markdown",
   "metadata": {},
   "source": [
    "Run it using:"
   ]
  },
  {
   "cell_type": "code",
   "execution_count": 12,
   "metadata": {},
   "outputs": [
    {
     "data": {
      "text/plain": [
       "array([0.40647575, 0.43061081, 0.41887239, 0.3688089 , 0.3811228 ,\n",
       "       0.3823579 , 0.39589893, 0.40261791, 0.36740638, 0.39291593,\n",
       "       0.44384526, 0.37811348, 0.35546921, 0.35927193, 0.41599603,\n",
       "       0.36390436, 0.41906973, 0.38367414, 0.36658965, 0.40038773,\n",
       "       0.39516327, 0.46608099, 0.40780381, 0.40847568, 0.38040059,\n",
       "       0.38974328, 0.43453845, 0.35263775, 0.47089866, 0.39093242,\n",
       "       0.41680539, 0.3829122 , 0.46399894, 0.46936529, 0.4389716 ,\n",
       "       0.41717343, 0.40314248, 0.40759676, 0.36942188, 0.39426959,\n",
       "       0.39673886, 0.39242597, 0.36050092, 0.40320164, 0.38734409,\n",
       "       0.34657134, 0.41799767, 0.35522523, 0.44383296, 0.4100923 ])"
      ]
     },
     "execution_count": 12,
     "metadata": {},
     "output_type": "execute_result"
    }
   ],
   "source": [
    "mkt.solveIPFP()\n",
    "mkt.eq_μ_x0"
   ]
  },
  {
   "cell_type": "markdown",
   "metadata": {},
   "source": [
    "# Matching with linear taxes\n",
    "\n",
    "We now consider a version of the Becker model with a \"flat tax\": assume that the gross wage $w_{xy}$ is taxed at a constant rate $\\tau \\in [0,1)$:\n",
    "$U_{xy} = \\alpha_{xy} + (1-\\tau) w_{xy}\\\\\n",
    "V_{xy} = \\gamma_{xy} - w_{xy}.$<br>\n",
    "\n",
    "Dupuy, Galichon, Jaffe and Kominers (2020) have shown the following result:\n",
    "\n",
    "**Theorem (DGJK)**. The equilibrium matching in the problem above with a flat tax $\\tau$ above is the optimal matching in a TU matching problem with surplus function<br>\n",
    "$\\Phi^\\tau_{xy} =  \\alpha_{xy}   +  (1-\\tau )  \\gamma_{xy}.$\n",
    "\n"
   ]
  },
  {
   "cell_type": "markdown",
   "metadata": {},
   "source": [
    "### Proof\n",
    "\n",
    "At equilibrium there is a wage $w_{xy}$ such that:\n",
    "\n",
    "$x$ gets indidirect utility\n",
    "$u_{x}=\\max_{y}\\left\\{ \\alpha _{xy}+\\left( 1-\\tau \\right) w_{xy},0\\right\\} $, and\n",
    "\n",
    "$y$ gets indirect utility\n",
    "$v_{y}=\\max_{x}\\left\\{ \\gamma _{xy}-w_{xy},0\\right\\} $\n",
    "\n",
    "\n",
    "Equilibrium consists thus of looking for matching patterns $\\mu _{xy}$, wages $w_{xy}$, and indirect utilities $(u_x,v_y)$ such that:\n",
    "\n",
    "(i) populations constraints are met:<br>\n",
    "$\\left\\{\n",
    "\\begin{array}{l}\n",
    "\\sum_{y}\\mu _{xy}+\\mu _{x0}=n_{x} \\\\\n",
    "\\sum_{x}\\mu _{xy}+\\mu _{0y}=m_{y}\n",
    "\\end{array}\n",
    "\\right. $\n",
    "\n",
    "(ii) stability conditions hold:<br>\n",
    "$u_{x}\\geq \\alpha _{xy}+\\left( 1-\\tau \\right) w_{xy}\\text{ and }\n",
    "v_{y}\\geq \\gamma _{xy} - w_{xy} \\\\\n",
    "u_{x}\\geq 0,v_{y}\\geq 0$ \n",
    "\n",
    "(iii) complementary conditions hold:<br>\n",
    "$\\mu_{xy}>0 \\implies u_{x} = \\alpha _{xy}+\\left( 1-\\tau \\right) w_{xy}\\text{ and }\n",
    "v_{y} = \\gamma _{xy} - w_{xy} \\\\\n",
    "\\mu_{x0}>0 \\implies u_{x} =0 \\\\\n",
    "\\mu_{0y}>0 \\implies v_{y} = 0$"
   ]
  },
  {
   "cell_type": "markdown",
   "metadata": {},
   "source": [
    "### Proof (ctd)\n",
    "\n",
    "Denote $\\tilde{v}_{y}=\\left( 1-\\tau \\right) v_{y}$ and $\\tilde{\\gamma}%\n",
    "_{xy}=\\left( 1-\\tau \\right) \\gamma _{xy}$ and $\\tilde{w}_{xy}=\\left( 1-\\tau\n",
    "\\right) w_{xy}$ the indirect utility of the firm and the output measured in\n",
    "post-tax dollars, then we have\n",
    "\n",
    "$\\sum_{y}\\mu _{xy}+\\mu _{x0}=n_{x}$\n",
    "\n",
    "$\\sum_{x}\\mu _{xy}+\\mu _{0y}=m_{y}$\n",
    "\n",
    "$u_{x}\\geq 0,\\tilde{v}_{y}\\geq 0$\n",
    "\n",
    "$u_{x}\\geq \\alpha _{xy}+\\tilde{w}_{xy}$ with equality if $\\mu _{xy}>0$\n",
    "\n",
    "$\\tilde{v}_{y}\\geq \\tilde{\\gamma}_{xy}-\\tilde{w}_{xy}$ with equality if $\\mu\n",
    "_{xy}>0$.\n",
    "\n",
    "Therefore, $\\mu$ is the optimal matching associated with surplus function<br>\n",
    "$\\tilde{\\Phi}_{xy} = \\alpha_{xy}+\\left( 1-\\tau \\right) \\gamma _{xy}$."
   ]
  },
  {
   "cell_type": "markdown",
   "metadata": {},
   "source": [
    "## Embedding in a Choo-Siow model\n",
    "\n",
    "Consider the logit random utility version of the previous problem:\n",
    "\n",
    "\n",
    "$u_x = \\mathbb{E} \\left[ \\max_{y}\\left\\{ \\alpha _{xy}+(1 - \\tau) w_{xy} + T \\varepsilon_y, T \\varepsilon_0 \\right\\} \\right] $ \n",
    "\n",
    "$v_y = \\mathbb{E} \\left[ \\max_{x}\\left\\{ \\gamma _{xy}-w_{xy} + T \\eta_y,T \\eta_0\\right\\} \\right]$\n",
    "\n",
    "where $\\epsilon$ and $\\eta$ are random vectors of i.i.d. Gumbel distributions. \n",
    "\n",
    "Defining as before\n",
    "$\\tilde{v}_{y}=\\left( 1-\\tau \\right) v_{y}$ and $\\tilde{\\gamma}_{xy}=\\left( 1-\\tau \\right) \\gamma _{xy}$ and $\\tilde{w}_{xy}=\\left( 1-\\tau\n",
    "\\right) w_{xy}$\\, we have<br>\n",
    "$u_{x}=T\\log \\left( 1+\\sum_{y}\\exp \\left( \\frac{\\alpha _{xy}+\\tilde{w}_{xy}}{T}\\right) \\right)  \\\\\n",
    "\\tilde{v}_{y}=(1-\\tau) T\\log \\left( 1+\\sum_{x}\\exp \\left( \\frac{\\tilde{\\gamma} _{xy}-\\tilde{w}_{xy}}{(1-\\tau)T}\n",
    "\\right) \\right). $\n",
    "\n",
    "As a result, the model is a Choo-Siow model with surplus $\\alpha_{xy} + (1-\\tau) \\gamma_{xy}$ and scaling parameter $1-\\tau / 2$\n",
    "\n",
    "Define:<br>\n",
    "$\\begin{array}{l}W\\left( \\theta ,\\lambda \\right)  = \n",
    "\\max_\\mu &&\\sum_{x,y} \\mu_{xy} \\left( \\alpha \\theta +\\gamma\n",
    "\\lambda \\right)- (\\theta+\\lambda)T \\sum_{x,y} \\mu_{xy} \\log \\mu_{xy} - \\theta T \\sum_x \\mu_{x0} \\log \\mu_{x0} -  \\lambda T \\sum_y \\mu_{0y} \\log \\mu_{0y}\\\\\n",
    "s.t.~ &&\\sum_{y} \\mu_{xy} + \\mu_{x0}  = n_x \\\\\n",
    "&&\\sum_{x} \\mu_{xy} + \\mu_{0y} = m_y \\\\\n",
    "\\end{array}$<br>\n",
    "so that the equilibrium matching model with taxes solves for an equilibrium with $\\theta = 1$ and $\\lambda = 1-\\tau$."
   ]
  },
  {
   "cell_type": "markdown",
   "metadata": {},
   "source": [
    "### Comparative statics\n",
    "\n",
    "**Proposition (DGJK)**. $W$ is a convex and positive homogenous function, and we have:<br>\n",
    "$\\left\\{\n",
    "\\begin{array}{l}\n",
    "\\frac{\\partial W}{\\partial \\theta } (\\theta,\\lambda)=\\sum_{xy} \\mu_{xy} \\alpha_{xy} -T \\sum_x \\mu_{x0} \\log \\mu_{x0} \n",
    "=:A\\\\\n",
    "\\frac{\\partial W}{\\partial \\lambda } (\\theta,\\lambda)=\\sum_{xy} \\mu_{xy} \\gamma_{xy} -T \\sum_y \\mu_{0y} \\log \\mu_{0y} \n",
    "=:\\Gamma\n",
    "\\end{array}\n",
    "\\right.\n",
    "$\n",
    "\n",
    "therefore $\\frac{\\partial \\Gamma }{\\partial \\lambda }\\geq 0$\n",
    "\n",
    "Similarly, $W=\\theta A+\\lambda \\Gamma $ and $\\Gamma =\\theta \\frac{\\partial A%\n",
    "}{\\partial \\lambda }+\\Gamma +\\lambda \\frac{\\partial \\Gamma }{\\partial\n",
    "\\lambda }$\n",
    "\n",
    "hence $\\frac{\\partial \\Gamma }{\\partial \\lambda }=-\\frac{\\theta }{\\lambda }%\n",
    "\\frac{\\partial A}{\\partial \\lambda }$\n",
    "\n",
    "so with $\\theta =1$, one has\n",
    "\n",
    "$\\frac{\\partial A}{\\partial \\lambda }=-\\lambda \\frac{\\partial \\Gamma }{%\n",
    "\\partial \\lambda }\\leq 0$\n",
    "\n",
    "and\n",
    "\n",
    "$\\frac{\\partial \\left( A+\\Gamma \\right) }{\\partial \\lambda }=\\left(\n",
    "1-\\lambda \\right) \\frac{\\partial \\Gamma }{\\partial \\lambda }$\n",
    "\n",
    "As a result, the sum of amenities $A$ increases with the tax wage, but the total welfare $A+\\Gamma$ decreases, so the increase in $A$ is not enough to compensate the decrease in $\\Gamma$."
   ]
  },
  {
   "cell_type": "code",
   "execution_count": 13,
   "metadata": {},
   "outputs": [
    {
     "data": {
      "image/png": "[encoded data removed]",
      "text/plain": [
       "<Figure size 432x288 with 1 Axes>"
      ]
     },
     "metadata": {
      "needs_background": "light"
     },
     "output_type": "display_data"
    },
    {
     "data": {
      "image/png": "[encoded data removed]",
      "text/plain": [
       "<Figure size 432x288 with 1 Axes>"
      ]
     },
     "metadata": {
      "needs_background": "light"
     },
     "output_type": "display_data"
    },
    {
     "data": {
      "image/png": "[encoded data removed]",
      "text/plain": [
       "<Figure size 432x288 with 1 Axes>"
      ]
     },
     "metadata": {
      "needs_background": "light"
     },
     "output_type": "display_data"
    }
   ],
   "source": [
    "τ_k = np.arange(0,.5,.05)\n",
    "Φ_k = np.zeros(τ_k.size)\n",
    "α_k = np.zeros(τ_k.size)\n",
    "γ_k = np.zeros(τ_k.size)\n",
    "for k in range(τ_k.size ):\n",
    "    Φτ_x_y = α_x_y + (1-τ_k[k])* γ_x_y\n",
    "    mkt.Φ_x_y = Φ_x_y\n",
    "    mkt.K_x_y = np.exp(Φτ_x_y / (2*mkt.T) )\n",
    "    mkt.solveIPFP()\n",
    "    α_k[k] = np.sum(mkt.eq_μ_x_y * (α_x_y - np.log(mkt.eq_μ_x_y)) )\n",
    "    γ_k[k] = np.sum(mkt.eq_μ_x_y * (γ_x_y - np.log(mkt.eq_μ_x_y)) )\n",
    "    Φ_k[k] = np.sum(mkt.eq_μ_x_y * (α_x_y+γ_x_y - 2 * np.log(mkt.eq_μ_x_y)))\n",
    "\n",
    "import matplotlib.pyplot as plt\n",
    "\n",
    "plt.plot(τ_k,α_k)\n",
    "plt.legend(['Total α'], loc='upper left')\n",
    "plt.ylabel('Output')\n",
    "plt.show()\n",
    "\n",
    "plt.plot(τ_k,γ_k)\n",
    "plt.legend(['Total γ'], loc='upper left')\n",
    "plt.ylabel('Output')\n",
    "plt.show()\n",
    "\n",
    "plt.plot(τ_k,Φ_k)\n",
    "plt.legend(['Total α+γ'], loc='upper left')\n",
    "plt.ylabel('Output')\n",
    "plt.show()"
   ]
  }
 ],
 "metadata": {
  "kernelspec": {
   "display_name": "Python 3",
   "language": "python",
   "name": "python3"
  },
  "language_info": {
   "codemirror_mode": {
    "name": "ipython",
    "version": 3
   },
   "file_extension": ".py",
   "mimetype": "text/x-python",
   "name": "python",
   "nbconvert_exporter": "python",
   "pygments_lexer": "ipython3",
   "version": "3.8.5"
  }
 },
 "nbformat": 4,
 "nbformat_minor": 4
}
