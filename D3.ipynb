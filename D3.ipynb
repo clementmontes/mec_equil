{
 "cells": [
  {
   "cell_type": "markdown",
   "metadata": {},
   "source": [
    "# <center>Day 3: matching models with imperfectly transferable utility</center>\n",
    "### <center>Alfred Galichon (NYU+ScPo)</center>\n",
    "## <center>'math+econ+code' masterclass on equilibrium transport and matching models in economics</center>\n",
    "<center>© 2020-2021 by Alfred Galichon.  Past and present support from NSF grant DMS-1716489, ERC grant CoG-866274 are acknowledged.</center>\n",
    "\n",
    "#### <center>with Python code</center>\n",
    "\n",
    "**If you reuse material from this masterclass, please cite as:**<br>\n",
    "Alfred Galichon, 'math+econ+code' masterclass on equilibrium transport and matching models in economics, June 2021. https://github.com/math-econ-code/mec_equil"
   ]
  },
  {
   "cell_type": "markdown",
   "metadata": {},
   "source": [
    "\n",
    "# References\n",
    "\n",
    "* Gabrielle Demange and David Gale (1985). \"The Strategy Structure of Two-Sided Matching Markets\". *Econometrica*  53 no. 4, pp. 873-888.\n",
    "* Alvin Roth and Marilda Sotomayor (1990). *Two-sided matching. A Study in Game-Theoretic Modeling and Analysis.* Econometric Society Monographs.\n",
    "* Alfred Galichon, Scott Kominers, and Simon Weber (2019). \"Costly Concessions: An Empirical Framework for Matching with Imperfectly Transferable Utility.\" *Journal of Political Economy* 127 no. 6, pp. 2875-2925.\n"
   ]
  },
  {
   "cell_type": "markdown",
   "metadata": {},
   "source": [
    "# Matching with nonlinear taxes\n",
    "\n",
    "## Generating the data\n",
    "\n",
    "We will generate the same type of worker/firm data as yesterday."
   ]
  },
  {
   "cell_type": "code",
   "execution_count": 1,
   "metadata": {},
   "outputs": [],
   "source": [
    "import numpy as np\n",
    "from scipy.spatial.distance import cdist\n",
    "import matplotlib.pyplot as plt\n",
    "\n",
    "\n",
    "np.random.seed(777)\n",
    "d = 8\n",
    "nbx = 50\n",
    "nby = 30\n",
    "\n",
    "rg = .8\n",
    "rs = .6\n",
    "r  = .7\n",
    "\n",
    "n_x = np.ones(nbx)\n",
    "m_y = np.ones(nby)\n",
    "ξ_x_k = np.random.rand(nbx,d)\n",
    "ζ_y_k = np.random.rand(nby,d)\n",
    "\n",
    "α_x_y = np.zeros((nbx,nby))\n",
    "γ_x_y = np.zeros((nbx,nby))\n",
    "for x in range(nbx):\n",
    "    for y in range(nby):\n",
    "        α_x_y[x,y] = -  np.linalg.norm(ξ_x_k[x,6:7]-ζ_y_k[y,6:7])-5\n",
    "        γ_x_y[x,y] = 10+5*(np.sum( (ξ_x_k[x,0:3]*ζ_y_k[y,0:3])**rg )**(r/rg)+(  np.sum(  ξ_x_k[x,3:6]*ζ_y_k[y,3:6] )**rs )**(r/rs))**r\n",
    "        \n",
    "Φ_x_y = α_x_y + γ_x_y"
   ]
  },
  {
   "cell_type": "markdown",
   "metadata": {},
   "source": [
    "## Tax schedule\n",
    "\n",
    "In 2020, the federal tax schedule for a single taxpayer was as follows: \n",
    "\n",
    "|MARGINAL RATE | LOWER BRACKET | UPPER BRACKET  | TAX OWED  |\n",
    "| :----- | :----- | :----- | :------------------------------------------------------------- |\n",
    "| 10\\% | \\$0  | \\$9,700    | 10\\% of taxable income |\n",
    "| 12\\% | \\$9,701 | \\$39,475 | \\$970 plus 12\\% of the excess over \\\\$9,700 |\n",
    "| 22\\% | \\$39,476 | \\$84,200 | \\$4,543 plus 22\\% of the excess over \\\\$39,475 |\n",
    "| 24\\% | \\$84,201 | \\$160,725 | \\$14,382.50 plus 24\\% of the excess over \\\\$84,200 |\n",
    "| 32\\% | \\$160,726 | \\$204,100 | \\$32,748.50 plus 32\\% of the excess over \\\\$160,725 |\n",
    "| 35\\% | \\$204,101 | \\$510,300 | \\$46,638.50 plus 35\\% of the excess over \\\\$204,100 |\n",
    "| 37\\% | \\$510,300 | - | \\$153,798.50 plus 37\\% of the excess over \\\\$510,300 |\n",
    "\n",
    "(Source: https://www.investopedia.com/terms/t/taxbracket.asp)"
   ]
  },
  {
   "cell_type": "markdown",
   "metadata": {},
   "source": [
    "Let $N\\left( w\\right) $ be the net wage if gross wage is $w$.\n",
    "\n",
    "Let $\\tau ^{k}$ be the $k$-th tax rate (by increasing order), and $w^{k}$ be the lower bracket associated with $\\tau_k$.\n",
    "\n",
    "Set $w^{0}=0,n^{0}=0,\\tau ^{0}=0.1$.\n",
    "\n",
    "Letting $n^k=N(w^k)$, one has<br>\n",
    "$n^{k+1}=n^{k}+\\left( 1-\\tau ^{k}\\right) \\left( w^{k+1}-w^{k}\\right) $<br>\n",
    "and<br>\n",
    "$N\\left( w\\right) =\\min_{k}\\left\\{ n^{k}+\\left( 1-\\tau ^{k}\\right) \\left(\n",
    "w-w^{k}\\right) \\right\\} $\n",
    "\n",
    "\n",
    "Let $g$ be the gross wage, and $n$ be the net wage, we have that the net wage is a piecewise linear, increasing and concave function of the gross wage, whose slopes are $1-\\tau_k$, so it expresses as<br>\n",
    "$ n = \\min_k \\{N^k+(1-\\tau_k) w\\}$<br>\n",
    "where $N^k = n^k - w^k (1-\\tau^k) = \\tau^k w^k - (n^k - w^k)$.<br> \n",
    "\n",
    "We encode this as:"
   ]
  },
  {
   "cell_type": "code",
   "execution_count": 2,
   "metadata": {},
   "outputs": [
    {
     "data": {
      "image/png": "[encoded data removed]",
      "text/plain": [
       "<Figure size 432x288 with 1 Axes>"
      ]
     },
     "metadata": {
      "needs_background": "light"
     },
     "output_type": "display_data"
    }
   ],
   "source": [
    "lower_bracket = np.array([0, 9.701, 39.476, 84.201, 160.726, 204.101, 510.300])/100\n",
    "marginal_tax =  np.array([.1,.12,   .22,    .24,    .32,     .35,     .37    ])\n",
    "tax_on_previous_brackets = np.zeros(lower_bracket.size)\n",
    "for i in range(1,lower_bracket.size):\n",
    "    tax_on_previous_brackets[i] = tax_on_previous_brackets[i-1] + marginal_tax[i-1]*(lower_bracket[i]-lower_bracket[i-1])\n",
    "    \n",
    "N_k = np.append(0,marginal_tax*lower_bracket - tax_on_previous_brackets ) \n",
    "τ_k = np.append(0,marginal_tax)\n",
    "nbk =N_k.size\n",
    "\n",
    "TaxPaid = np.vectorize(lambda g : max(g*τ_k -N_k))\n",
    "NetFromGross = np.vectorize(lambda g : min(N_k+g*(1-τ_k)))\n",
    "\n",
    "gs = np.arange(0,1,0.01)\n",
    "ts = NetFromGross(gs)\n",
    "plt.plot(gs,ts)\n",
    "plt.ylabel('Tax paid')\n",
    "plt.show()"
   ]
  },
  {
   "cell_type": "markdown",
   "metadata": {},
   "source": [
    "# Bargaining whithin a pair\n",
    "In order to study the matching problem, we need to first study the bargaining possibilities within a matched pair. For now we shall drop the subscripts $x$ and $y$, and we will study the set of utilities $(U,V)$ that the worker and the firm can obtain as an outcome of that bargaining. This set is called *feasible utility set*, or *bargaining set*.\n",
    "\n",
    "Most of the material in this lecture is taken from Galichon, Kominers and Weber (2019)."
   ]
  },
  {
   "cell_type": "markdown",
   "metadata": {},
   "source": [
    "## Feasible utilities\n",
    "\n",
    "For each value of $w$ (nominal wage), compute<br>\n",
    "$\\left\\{\n",
    "\\begin{array}{l}\n",
    "U \\text{ = utility of the worker}\\\\\n",
    "V\\text{ = utility of the firm}\n",
    "\\end{array}\n",
    "\\right.$\n",
    "\n",
    "In the transferable utility case (Becker-Shapley-Shubik),<br>\n",
    "$\\left\\{\n",
    "\\begin{array}{l}\n",
    "U(w) = \\alpha + w\\\\\n",
    "V(w) = \\gamma -w,\n",
    "\\end{array}\n",
    "\\right.$<br>\n",
    "but in general, we shall assume that $\\mathcal{U}\\left( w\\right)$ and $\\mathcal{U}\\left( w\\right)$  are nondecreasing (resp. nonincreasing) and continuous, not necessarily linear.\n",
    "\n"
   ]
  },
  {
   "cell_type": "markdown",
   "metadata": {},
   "source": [
    "## The feasible utility set\n",
    "Given a worker-firm pair, define $\\mathcal{F}$ the feasible utility set as:\n",
    "\n",
    "$\\mathcal{F}=\\left\\{ \\left( U,V\\right) :\\exists w,U\\leq U\\left(\n",
    "w\\right) ,V\\leq V\\left( w\\right) \\right\\} $.\n",
    "\n",
    "equivalently, if $\\mathcal{U}$ is strictly increasing\n",
    "\n",
    "$\\mathcal{F}=\\left\\{ \\left( U,V\\right) :V\\leq V\\left( U\n",
    "^{-1}\\left( U\\right) \\right) \\right\\} .$\n",
    "\n",
    "Note that we are assuming free disposal: if $(U,V)$ is feasible and if $U' \\leq U$ and $V' \\leq V$, then $(U',V')$ is feasible.\n",
    "\n",
    "Also, $w$ does not have to be a wage; it can be the set of terms of a contract."
   ]
  },
  {
   "cell_type": "markdown",
   "metadata": {},
   "source": [
    "## Frontier of the feasible utility set\n",
    "\n",
    "We define the *frontier* of the feasible utility sets as the set of points $(U,V)\\in \\mathcal{F}$ such that there is no point $(U',V')\\in \\mathcal{F}$ with<br>\n",
    "$U' < U$ and $V' < V$.\n",
    "\n",
    "**Caution here**. This coincides with the *topological frontier* which is defined as the intersection of the closures of the interior and exterior of the set, but not with the *set of Pareto efficient points*, which is in general a subset of the former. Indeed, the set of Pareto efficient points is the set of points $(U,V)\\in \\mathcal{F}$ such that there is no point $(U',V')\\in \\mathcal{F}$ with<br>\n",
    "$U' \\leq U$ and $V' \\leq V$, with at least one strict inequality.<br>\n",
    "In particular, if $\\mathcal{F} = (U,V): U\\leq 1~and~V\\leq 1$, the topological frontier is union of the set $\\{U=1,V\\leq 1\\}$ and $\\{U\\leq 1, V=1\\}$, while the set of Pareto efficient points is $(1,1)$.<br>\n",
    "This distinction will be important when we discuss model with non-transferable utility.\n"
   ]
  },
  {
   "cell_type": "markdown",
   "metadata": {},
   "source": [
    "## Distance-to-frontier function\n",
    "\n",
    "\n",
    "Given a feasible set $\\mathcal{F}$, compute the distance to the frontier of $\\mathcal{F}$ along the diagonal, with a minus sign if in the interior, and a plus sign if it is not.<br>\n",
    "<br>\n",
    "Define the *distance-to-frontier* function as<br>\n",
    "$D(U,V)=\\min\\{t∈R:(U-t,V-t)∈F\\}$<br>\n",
    "\n",
    "This way:<br>\n",
    "$D(U,V) \\leq 0 $ means that $(U,V)\\in\\mathcal{F},$<br>\n",
    "while<br>\n",
    "$D(U,V) = 0 $ means that $(U,V)$ is on the frontier of $\\mathcal{F}$.\n",
    "\n",
    "**Property**. For $a \\in \\mathbb{R}$, we have $D(U+a,V+a)=D(U,V)+a$.\n",
    "    \n"
   ]
  },
  {
   "cell_type": "markdown",
   "metadata": {},
   "source": [
    "## Parameterization of the frontier of the feasible set\n",
    "\n",
    "We can define $\\delta = U-V$ and get an explicit parameterization on the frontier of the feasible set as a function of $\\delta$.<br> \n",
    "$D(\\mathcal{U}(\\delta) , \\mathcal{U}(\\delta) - \\delta) =0$ and<br>\n",
    "$D(\\mathcal{V}(\\delta) + \\delta, \\mathcal{V}(\\delta) ) =0$<br> \n",
    "thus<br>\n",
    "$\\left\\{\n",
    "\\begin{array}[l]\n",
    "~\\mathcal{U}\\left( \\delta \\right) = - D(0,-\\delta)\\\\\n",
    "\\mathcal{V}\\left( \\delta \\right) = - D(\\delta,0)\n",
    "\\end{array}\n",
    "\\right.\n",
    "$<br>\n"
   ]
  },
  {
   "cell_type": "code",
   "execution_count": 3,
   "metadata": {},
   "outputs": [],
   "source": [
    "Ucalf = lambda D: (lambda w: -D(0,-w) )\n",
    "Vcalf = lambda D: (lambda w: -D(w,0) )\n",
    "\n",
    "def plot_feasible(D,range = (-1,1)):\n",
    "    δs = np.linspace(range[0],range[1],num=200)\n",
    "    Ucal,Vcal = np.vectorize(Ucalf(D)),np.vectorize(Vcalf(D))\n",
    "    us = [Ucal(δ) for δ in δs]\n",
    "    vs = [Vcal(δ) for δ in δs]\n",
    "    plt.plot(us,vs)\n",
    "    plt.ylabel('U')\n",
    "    plt.ylabel('V')\n",
    "    plt.show()\n"
   ]
  },
  {
   "cell_type": "markdown",
   "metadata": {},
   "source": [
    "## Some examples\n",
    "### Example 1:  transferable utility (TU)\n",
    " \n",
    "* The Becker model assumes  *additively transferable utility*: it is a model of marriage in which utility can freely be transferred across partners, in a one-to-one manner.<br>\n",
    "$\\left\\{\n",
    "\\begin{array}\n",
    "\\mathcal{U}\\left( w\\right) =\\alpha +w \\\\\n",
    "\\mathcal{V}\\left( w\\right) =\\gamma -w\n",
    "\\end{array}\n",
    "\\right.\n",
    "$<br>\n",
    "and thus, denoting $\\Phi = \\alpha +\\gamma$,<br>\n",
    "$\\mathcal{F}=\\left\\{ \\left( U,V\\right) :u+v\\leq \\Phi \\right\\} $<br>\n",
    "\n",
    "\n",
    "* The distance=to-frontier in the transferable utility case is<br>\n",
    "$D(U,V) = \\frac {U+V - \\Phi} {2}.$"
   ]
  },
  {
   "cell_type": "code",
   "execution_count": 4,
   "metadata": {},
   "outputs": [
    {
     "data": {
      "image/png": "[encoded data removed]",
      "text/plain": [
       "<Figure size 432x288 with 1 Axes>"
      ]
     },
     "metadata": {
      "needs_background": "light"
     },
     "output_type": "display_data"
    }
   ],
   "source": [
    "def create_D_TU(Φ):\n",
    "    return (lambda U,V : (U+V - Φ)/2)\n",
    "\n",
    "plot_feasible(create_D_TU(2))"
   ]
  },
  {
   "cell_type": "markdown",
   "metadata": {},
   "source": [
    "### Example 2: non-transferable utility (NTU)\n",
    "\n",
    "* **Motivation: housing market with price controls.** In the model of *non-transferable utility,* no transfer attempt can be beneficial to the other side of the market. In that case, denote $(\\alpha,\\gamma)$ the only Pareto efficient point, and due to free disposal:<br>\n",
    "$\\mathcal{F=}\\left\\{ \\left( U,V\\right) :U\\leq \\alpha \\text{ and }V\\leq\n",
    "\\gamma \\right\\}. $<br>\n",
    "\n",
    "* The distance-to-frontier is the scalar $t\\in\\mathbb{R}$ such that\n",
    "$\\max \\left( U-\\alpha ,V-\\gamma \\right) -t = 0$, hence:<br>\n",
    "$D\\left( U,V\\right) =\\max \\left( U-\\alpha ,V-\\gamma \\right) $<br>\n",
    "\n"
   ]
  },
  {
   "cell_type": "code",
   "execution_count": 5,
   "metadata": {},
   "outputs": [
    {
     "data": {
      "image/png": "[encoded data removed]",
      "text/plain": [
       "<Figure size 432x288 with 1 Axes>"
      ]
     },
     "metadata": {
      "needs_background": "light"
     },
     "output_type": "display_data"
    }
   ],
   "source": [
    "def create_D_NTU(α,γ):\n",
    "    return (lambda U,V : np.maximum(U - α ,V -γ ))\n",
    "\n",
    "plot_feasible(create_D_NTU(1,1))"
   ]
  },
  {
   "cell_type": "markdown",
   "metadata": {},
   "source": [
    "### Example 3: linearly transferable utility (LTU)\n",
    "\n",
    "* **Motivation: labor matching with flat tax**. Consider a model of the labor market with proportional taxation, where the tax rate is $\\tau$. We have<br>\n",
    "$ U-\\alpha = (1 - \\tau) (\\gamma - V) $<br>\n",
    "then, setting $\\lambda = 1 /(2 - \\tau)$, one has<br>\n",
    "$\\mathcal{F=}\\left\\{ \\left( U,V\\right) :\\lambda U + (1-\\lambda) V \\leq  \\Phi \\right\\},$<br>\n",
    "where $\\Phi = \\lambda \\alpha + (1-\\lambda) \\gamma $.\n",
    "\n",
    "* As a result, the distance function is<br>\n",
    "$D(U,V) = \\lambda U + (1-\\lambda) V - \\Phi).$"
   ]
  },
  {
   "cell_type": "code",
   "execution_count": 6,
   "metadata": {},
   "outputs": [],
   "source": [
    "def create_D_LTU(α,γ,λ):\n",
    "    return (lambda U,V : λ*(U-α)+(1-λ)*(V-γ))\n",
    "gross_wages = lower_bracket / 10\n",
    "net_wages = NetFromGross(lower_bracket)/10\n",
    "D_LTUs = [create_D_LTU(  net_wages[i] , 1 - gross_wages[i], 1/(2-marginal_tax[i]) ) for i in range(len(marginal_tax))]"
   ]
  },
  {
   "cell_type": "markdown",
   "metadata": {},
   "source": [
    "### Example 4: exponentially transferable utility (ETU)\n",
    "\n",
    "* **Motivation: household bargaining with private consumption.** We consider a model of marriage in which we model intra-household bargaining with private consumption and match amenity.\n",
    "\n",
    "* A match yield amenity $\\alpha$ to man $i$ and utility $\\gamma$ to woman $j$, and private consumptions are denoted $c^{i}$ and $c^{j}$.<br>\n",
    "\n",
    "* The utilities are formed as a combination of the log-consumptions and the match amenities:<br>\n",
    " $\\left\\{\n",
    "\\begin{array}[l]\n",
    "~U = \\tilde{\\alpha} +\\tau \\log c^{i}\\\\\n",
    "V = \\tilde{\\gamma} +\\tau \\log c^{j}\n",
    "\\end{array}\n",
    "\\right.\n",
    "$<br>\n",
    "where the private consumptions are subject to the budget constraint $c^{i}+c^{j}=B$, where $B$ is the joint budget of the household.<br>\n",
    "\n",
    "* We have $c^{i}=\\exp \\left( \\frac{U-\\tilde{\\alpha} }{\\tau }\\right) $ and $c^{j}=\\exp \\left( \\frac{V-\\tilde{\\gamma} }{\\tau }\\right) $ and thus the budget constraint rewrites:<br>\n",
    "$\\exp \\left( \\frac{U- \\tilde{\\alpha} }{\\tau }\\right) +\\exp \\left( \\frac{V-\\tilde{\\gamma} }{\\tau }\\right) \\leq B$<br>\n",
    "and setting $\\alpha = \\tilde{\\alpha} + \\tau \\log B$ and $\\gamma = \\tilde{\\gamma} + \\tau \\log B$, we obtain:<br>\n",
    "$\\mathcal{F=}\\left\\{ \\left( U,V\\right) :\\exp \\left( \\frac{U- \\alpha }{\\tau }%\n",
    "\\right) +\\exp \\left( \\frac{V-\\gamma }{\\tau }\\right) \\leq 2\\right\\} $<br>\n",
    "\n",
    "* The distance function can be obtained as<br> \n",
    "$D(U,V) = \\tau \\log \\left( \\frac {\\exp(\\frac{ U-\\alpha} {\\tau} ) + \\exp(\\frac {V - \\gamma} {\\tau}) } {2} \\right)$"
   ]
  },
  {
   "cell_type": "code",
   "execution_count": 7,
   "metadata": {},
   "outputs": [
    {
     "data": {
      "image/png": "[encoded data removed]",
      "text/plain": [
       "<Figure size 432x288 with 1 Axes>"
      ]
     },
     "metadata": {
      "needs_background": "light"
     },
     "output_type": "display_data"
    }
   ],
   "source": [
    "def create_D_ETU(α,γ,τ):\n",
    "    return (lambda U,V : τ * np.log(np.exp( (U - α ) / τ ) + np.exp ((V -γ ) / τ )) )\n",
    "\n",
    "plot_feasible(create_D_ETU(1,1,1))\n"
   ]
  },
  {
   "cell_type": "markdown",
   "metadata": {},
   "source": [
    "### Example 4 (continued): limits of the ETU case\n",
    "**Remarks.**\n",
    "* When $\\tau \\rightarrow +\\infty $, we get at first order in $1 / \\tau$<br>\n",
    "\n",
    "    $2+\\frac{U-\\alpha }{\\tau }+\\frac{V-\\gamma }{\\tau }\\leq 2$<br>\n",
    "\n",
    "    which in the limit of a very large $\\tau$, yields $U+V\\leq \\alpha +\\gamma $, the transferable utility case.<br>\n",
    "\n",
    "* When $\\tau \\rightarrow 0$, we get<br>\n",
    "    $\\tau \\log \\left( \\exp \\left( \\frac{U-\\alpha }{\\tau }\\right) +\\exp \\left( \n",
    "\\frac{V-\\gamma }{\\tau }\\right) \\right) \\leq \\tau \\log 2$<br>\n",
    "\n",
    "    which in the limit when $\\tau$ tends to zero, yields $\\max \\left\\{ U-\\alpha ,V-\\gamma \\right\\} \\leq 0$, the non-transferable utility case.<br>\n"
   ]
  },
  {
   "cell_type": "code",
   "execution_count": 8,
   "metadata": {},
   "outputs": [
    {
     "data": {
      "image/png": "[encoded data removed]",
      "text/plain": [
       "<Figure size 432x288 with 1 Axes>"
      ]
     },
     "metadata": {
      "needs_background": "light"
     },
     "output_type": "display_data"
    }
   ],
   "source": [
    "plot_feasible(create_D_ETU(1,1,0.05))"
   ]
  },
  {
   "cell_type": "code",
   "execution_count": 9,
   "metadata": {},
   "outputs": [
    {
     "data": {
      "image/png": "[encoded data removed]",
      "text/plain": [
       "<Figure size 432x288 with 1 Axes>"
      ]
     },
     "metadata": {
      "needs_background": "light"
     },
     "output_type": "display_data"
    }
   ],
   "source": [
    "plot_feasible(create_D_ETU(1,1,5))"
   ]
  },
  {
   "cell_type": "markdown",
   "metadata": {},
   "source": [
    "### Example 5: union of feasible sets\n",
    "\n",
    "* **Motivation: household bargaining with public goods**. Consider a model of marriage where partners make a joint decision on a public good $g\\in G$ e.g. the number of kids; buying a house, etc.<br>\n",
    "\n",
    "* Assume that conditional on $g\\in G$, the utilities are<br>\n",
    " $\\left\\{\n",
    "\\begin{array}[l]\n",
    "~U=\\alpha ^{g}\\left( w\\right)\\text{ increasing}\\\\\n",
    "V=\\gamma ^{g}\\left( w\\right)\\text{ decreasing}\n",
    "\\end{array}\n",
    "\\right.\n",
    "$<br>\n",
    "where $w$ is the term of match - say the share of private consumption that\n",
    "goes to the man.<br>\n",
    "\n",
    "* We can compute the *conditional feasible set*<br>\n",
    "$\\mathcal{F}^{g}\\mathcal{=}\\left\\{ \\left( U,V\\right) :U\\leq \\alpha\n",
    "^{g}\\left( \\left( \\gamma ^{g}\\right) ^{-1}\\left( V\\right) \\right) \\right\\} $<br>\n",
    "\n",
    "* The overall feasible set is the union of the conditional bargaining sets:<br>\n",
    "$\\mathcal{F=\\cup }_{g\\in G}\\mathcal{F}^{g}$.<br>\n",
    "$\\mathcal{F=}\\left\\{ \\left( U,V\\right) :U\\leq \\max_{g}\\alpha ^{g}\\left(\n",
    "\\left( \\gamma ^{g}\\right) ^{-1}\\left( V\\right) \\right) \\right\\} $<br>\n",
    "\n",
    "* The distance function associated with the overall set is the minimum of the distance functions associated with the conditional bargaining sets:<br>\n",
    "$D_{\\mathcal{F}}\\left( U,V\\right) =\\min_{g}D_{\\mathcal{F}^{g}}\\left(\n",
    "U,V\\right) $."
   ]
  },
  {
   "cell_type": "code",
   "execution_count": 10,
   "metadata": {},
   "outputs": [
    {
     "data": {
      "image/png": "[encoded data removed]",
      "text/plain": [
       "<Figure size 432x288 with 1 Axes>"
      ]
     },
     "metadata": {
      "needs_background": "light"
     },
     "output_type": "display_data"
    }
   ],
   "source": [
    "def create_D_union(Dlist):\n",
    "    return (lambda U,V : min([D(U,V) for D in Dlist]) )\n",
    "\n",
    "plot_feasible(create_D_union(D_LTUs))"
   ]
  },
  {
   "cell_type": "markdown",
   "metadata": {},
   "source": [
    "\n",
    "### Example 6: progressive taxation\n",
    "\n",
    "* **Motivation: labor matching with progressive taxation.**\n",
    "In the case of progressive taxation as introduced above,<br>\n",
    "$\\left\\{\n",
    "\\begin{array}{l}\n",
    "~U\\left( w_{xy}\\right) =\\alpha +N\\left( w\\right) = \\alpha\n",
    "+\\min_{k}\\left\\{ n^{k}+\\left( 1-\\tau _{k}\\right) \\left( w-w^{k}\\right)\n",
    "\\right\\}\\\\\n",
    "V \\left( w_{xy}\\right) =\\gamma _{xy}-w_{xy}\n",
    "\\end{array}\n",
    "\\right.$<br>\n",
    "\n",
    "* We have therefore<br>\n",
    "$\\mathcal{F=\\cap }_{k}\\mathcal{F}^{k}$<br>\n",
    "where<br>\n",
    "$\\mathcal{F}^{k}=\\left\\{ \\left( U,V\\right) : \\frac {U - \\alpha - n^{k}} { 2 -\\tau^k} +  \\frac \n",
    "{1-\\tau ^{k}} {2 - \\tau^k} \\left( V - \\gamma + w^{k}\\right) \\leq 0 \\right\\} $ which is the feasible set associated with a LTU model\n",
    "\n",
    "* Letting $\\tilde{\\alpha}_k = \\alpha + n^{k}$ and $\\tilde{\\gamma}_k=\\gamma - w^{k}$, and $\\lambda^k = \\frac {1} {2 - \\tau^k}$, the distance function can be expressed as:<br>\n",
    "$D_{\\mathcal{F}}\\left( U,V\\right) =\\max_{k} \\left\\{ \\lambda^k (U-\\tilde{\\alpha}^k) + (1-\\lambda^k) (V - \\tilde{\\gamma}^k) \\right\\} $\n",
    "\n"
   ]
  },
  {
   "cell_type": "code",
   "execution_count": 11,
   "metadata": {},
   "outputs": [
    {
     "data": {
      "image/png": "[encoded data removed]",
      "text/plain": [
       "<Figure size 432x288 with 1 Axes>"
      ]
     },
     "metadata": {
      "needs_background": "light"
     },
     "output_type": "display_data"
    }
   ],
   "source": [
    "def create_D_inter(Dlist):\n",
    "    return (lambda U,V : max([D(U,V) for D in Dlist]) )\n",
    "\n",
    "plot_feasible(create_D_inter(D_LTUs),range=(-0.2,0.3))"
   ]
  },
  {
   "cell_type": "markdown",
   "metadata": {},
   "source": [
    "# The matching model without heterogeneity\n",
    "\n",
    "Assume $w_{xy}$ is the wage and consider the workers' and the firms' problems. Define the indirect utilities as:<br>\n",
    "$u_{x}=max_{y}\\{U_{xy}(w_{xy}),0\\}$ and $v_{y}=max_{x}\\{V_{xy}(w_{xy}),0\\}$\n",
    "    \n",
    "$(\\mu,u,v,w)$ is an equilibrium matching if the following conditions hold\n",
    "\n",
    "(i) population constraint\n",
    "    \n",
    "$\\sum_{y}\\mu_{xy}+\\mu_{x0}=n_{x}$ and $\\sum_{x}\\mu_{xy}+\\mu_{0y}=m_{y}$\n",
    "    \n",
    "(ii) Stability\n",
    "\n",
    "$u_{x}\\geq U_{xy}(w_{xy})$ and $v_{y}\\geq V_{xy}(w_{xy})$, and\n",
    "\n",
    "$u_{x}\\geq0$ and $v_{y}≥0$\n",
    "\n",
    "(iii) Complementarity\n",
    "\n",
    "$\\mu_{xy}>0$ implies $u_{x}=U_{xy}(w_{xy})$ and $v_{y}=V_{xy}(w_{xy})$<br>\n",
    "$\\mu_{x0}>0$ implies $u_{x}=0$, and  $\\mu_{0y}>0$ implies $v_{y}=0$."
   ]
  },
  {
   "cell_type": "markdown",
   "metadata": {},
   "source": [
    "## Equilibrium formulation (model without heterogeneity)\n",
    "Note that we can remove $w_{xy}$ by rewriting stability as $D_{xy}(u_x,v_y) \\geq 0$. Equilibrium can be reexpressed as:<br>\n",
    "(i) population constraint<br> \n",
    "$\\sum_{y}\\mu_{xy}+\\mu_{x0}=n_{x}$ and $\\sum_{x}\\mu_{xy}+\\mu_{0y}=m_{y}$\n",
    "    \n",
    "(ii) Stability<br>\n",
    "$D_{xy}(u_x,v_y) \\geq 0$\n",
    "$u_{x}\\geq0$ and $v_{y}≥0$\n",
    "\n",
    "(iii) Complementarity<br>\n",
    "$\\mu_{xy}>0$ implies  $D_{xy}(u_x,v_y) = 0$<br>\n",
    "$\\mu_{x0}>0$ implies $u_{x}=0$, and  $\\mu_{0y}>0$ implies $v_{y}=0$."
   ]
  },
  {
   "cell_type": "markdown",
   "metadata": {},
   "source": [
    "# The matching model with logit heterogeneity\n",
    "\n",
    "* As before, we introduce $(\\varepsilon_y)$ and $(\\eta_x)$ two random utility terms with an i.i.d. Gumbel distribution. Denote $U_{xy}=U_{xy}(w_{xy})$ and $V_{xy}=V_{xy}(w_{xy})$. The average indirect utilities are:<br>\n",
    "$\\left\\{\n",
    "\\begin{array}[l]\n",
    "~u_{x}= \\mathbb{E}[\\max_{y}\\{U_{xy}+T\\epsilon_{y},T\\epsilon_0\\}] = T\\log(1+∑_{y}\\exp(U_{xy}/T))\\\\\n",
    "v_{y}= \\mathbb{E}[\\max_{x}\\{V_{xy}+T\\eta_{x},T\\eta_0\\}] = T\\log(1+\\sum_{x}\\exp(V_{xy}/T))\n",
    "\\end{array}\n",
    "\\right.\n",
    "$\n",
    "\n",
    "* The choice probabilities are<br>\n",
    "$\\Pr(y|x) = \\exp( (U_{xy} - u_x) / T)$ and $\\Pr(0|x) = \\exp(  - u_x / T)$<br>\n",
    "$\\Pr(x|y) = \\exp( (V_{xy} - v_y) / T)$ and $\\Pr(0|y) = \\exp(  - v_y / T)$.\n",
    "\n",
    "* Note that we have $(U_{xy},V_{xy})\\in \\mathcal{F}_{xy}$. Thus, we reexpress\n",
    "$U_{xy}=U_{xy}(w_{xy})$ and $V_{xy}=V_{xy}(w_{xy})$ for some $w_{xy}$ as<br>\n",
    "$D_{xy}(U_{xy},V_{xy})=0$<br>\n",
    "where $D_{xy}$ is the distance function associated with $\\mathcal{F}_{xy}$.\n",
    "\n"
   ]
  },
  {
   "cell_type": "markdown",
   "metadata": {},
   "source": [
    "## The matching equations\n",
    "\n",
    "* We have<br>\n",
    "$\\left\\{\n",
    "\\begin{array}[l]\n",
    "~U_{xy} = T \\ln \\mu_{xy} - T \\ln  \\mu_{x0}\\\\\n",
    " V_{xy} = T \\ln \\mu_{xy}  - T \\ln  \\mu_{0y},\n",
    "\\end{array}\n",
    "\\right.$<br>\n",
    "and therefore<br>\n",
    "$D_{xy}(T \\ln \\mu_{xy} - T \\ln  \\mu_{x0},T \\ln \\mu_{xy}  - T \\ln  \\mu_{0y})=0$<br>\n",
    "hence<br>\n",
    "$\\mu_{xy}=M_{xy}(\\mu_{x0},\\mu_{0y})$, where $M_{xy}$ is the *matching equation*, given as:<br>\n",
    "$M_{xy}(\\mu_{x0},\\mu_{0y}):=\\exp(- D_{xy}(-T\\ln \\mu_{x0},-T\\ln \\mu_{0y}) / T)$\n",
    "\n",
    "\n",
    "* The equations of the model become:<br>\n",
    "$\\left\\{\n",
    "\\begin{array}[l]\n",
    "~\\mu_{x0}+∑_{y\\in \\mathcal{Y}}M_{xy}(\\mu_{x0},\\mu_{0y}) = n_{x}\\\\\n",
    "\\mu_{0y}+∑_{x\\in\\mathcal{X}}M_{xy}(\\mu_{x0},\\mu_{0y}) = m_{y}\n",
    "\\end{array}\n",
    "\\right.$"
   ]
  },
  {
   "cell_type": "markdown",
   "metadata": {},
   "source": [
    "# Solving for the equilibrium using Gauss-Seidel\n",
    "\n",
    "We will verify that we are in the Gross Substitutes / BGH case. Recall\n",
    "\n",
    "$M_{xy}(\\mu_{x0},\\mu_{0y})=\\exp(-D_{xy}(-T\\ln \\mu_{x0},-T\\ln \\mu_{0y}) / T)$\n",
    "\n",
    "Introduce $p_{z}=(p_{x},p_{y})$ with $p_{x}=-\\mu_{x0}$ and $p_{y}=\\mu_{0y}$,\n",
    "\n",
    "$\\left\\{\n",
    "\\begin{array}[l]\n",
    "~Q_{x}(p) = p_{x}-∑_{y∈Y}M_{xy}(-p_{x},p_{y})+n_{x}\\\\\n",
    "Q_{y}(p) = p_{y}+∑_{x∈X}M_{xy}(-p_{x},p_{y})-m_{y}\n",
    "\\end{array}\n",
    "\\right.$\n",
    "\n",
    "Gross substitutes hold.\n",
    "    \n",
    "Law of aggregate supply holds:<br>\n",
    "$\\sum_{x}Q_{x}(p)+∑_{y}Q_{y}(p)=∑_{x}p_{x}+∑_{y}p_{y}+∑_{x}n_{x}-\\sum_{y}m_{y}$ is increasing in all the prices.\n",
    "    \n",
    "Hence $Q$ is inverse isotone.\n",
    "    \n",
    "Now let's see that there is a subsolution and a supersolution.\n",
    "\n",
    "$p_{z}=N$, $N$ large enough yields a supersolution, while $p_{z}=-N$, N large enough yields a subsolution.\n",
    "    \n",
    "Hence there is a solution, and Gauss-Seidel converges."
   ]
  },
  {
   "cell_type": "markdown",
   "metadata": {},
   "source": [
    "## The class `GKW_model`\n",
    "### Distance function\n",
    "Note that $n_{xy} \\leq \\min_k \\{N_k+(1-\\tau_k) g_{xy}\\}$ is equivalent to $$ \\frac{- N_k - (1-\\tau_k) g_{xy} + n_{xy}} {2 - \\tau_k} \\leq 0~\\forall k.$$\n",
    "As $n_{xy}=U_{xy}-\\alpha_{xy}$ and $g_{xy} = \\gamma_{xy} -V_{xy}$, this is equivalent to $$ \\frac{ (U_{xy} - \\alpha_{xy} ) + (1-\\tau_k) ( V_{xy} - \\gamma_{xy}) -N_k } {2 - \\tau_k} \\leq 0~\\forall k, $$\n",
    "therefore, we get\n",
    "$$ D_{xy}(U,V) = \\max_k \\left\\{ \\frac{ (U - \\alpha_{xy} ) + (1-\\tau_k) ( V - \\gamma_{xy}) -N_k } {2 - \\tau_k} \\right\\} $$\n",
    "or,  setting<br>\n",
    "$\\lambda_k = 1 /  (2 - \\tau_k)$ and<br>\n",
    "$\\nu_k = (1 - \\tau_k) /  (2 - \\tau_k)$ and<br>\n",
    "$\\Phi^k_{xy} = \\lambda_k (\\alpha_{xy}+N_k) + \\nu_k \\gamma_{xy}$<br>\n",
    "$$ D_{xy}(U,V) = \\max_k \\left\\{ \\lambda_k U + \\nu_k V -  \\Phi^k_{xy} \\right\\} $$\n",
    "### Matching function\n",
    "One has $$M_{xy}(\\mu_{x0},\\mu_{0y})=\\exp(-D_{xy}(-\\log \\mu_{x0},-\\log \\mu_{0y}))=\\min_k \\left\\{ \\mu_{x0}^{\\lambda_k}  \\mu_{0y}^ {\\nu_k} e^{ \\Phi^k_{xy}} \\right\\}  $$"
   ]
  },
  {
   "cell_type": "code",
   "execution_count": 12,
   "metadata": {},
   "outputs": [
    {
     "data": {
      "text/plain": [
       "array([[39.45899939, 19.58072703, 27.95071734, 28.8266575 , 24.50328215],\n",
       "       [29.45957833, 12.36433326, 16.70880183, 17.3034927 , 14.34040148],\n",
       "       [19.84066181, 15.91718516, 18.58255001, 32.94379772, 30.50690878],\n",
       "       [35.88931574, 45.28941904, 33.83492863, 72.50573429, 57.01083497],\n",
       "       [48.90182463, 28.92587309, 38.50755154, 45.21330023, 39.75223127]])"
      ]
     },
     "execution_count": 12,
     "metadata": {},
     "output_type": "execute_result"
    }
   ],
   "source": [
    "λ_k = 1 / (2-τ_k)\n",
    "ν_k = (1-τ_k) / (2-τ_k)\n",
    "Φ_k_x_y = np.zeros((nbk,nbx,nby))\n",
    "for k in range(nbk):\n",
    "    for x in range(nbx):\n",
    "        for y in range(nby):\n",
    "            Φ_k_x_y[k,x,y] = λ_k[k]*(α_x_y[x,y]+N_k[k])+ν_k[k] * γ_x_y[x,y]\n",
    "\n",
    "class GKW_model:    \n",
    "    def __init__(self):\n",
    "        self.n_x = n_x\n",
    "        self.m_y = m_y\n",
    "        self.nbx = n_x.size\n",
    "        self.nby = m_y.size\n",
    "        self.eq_μ_x0 = np.array([])\n",
    "        self.eq_μ_0y = np.array([])\n",
    "        self.eq_μ_x_y = np.array([])\n",
    "        self.eq_deltamarg_x = np.array([])\n",
    "        self.eq_deltamarg_y = np.array([])\n",
    "        self.eq_deltainvmarg_x = np.array([])\n",
    "        self.eq_deltainvmarg_y = np.array([])\n",
    "        self.comp_code = -1\n",
    "        self.comp_nbsteps = -1\n",
    "        self.comp_time = -1.0\n",
    "                \n",
    "\n",
    "    def Mxy(self,x,y,μx0,μ0y):\n",
    "        return(np.min(μx0**λ_k * μ0y**ν_k * np.exp(Φ_k_x_y[:,x,y]) ))\n",
    "        \n",
    "    def M_x_y(self,μ_x0,μ_0y):\n",
    "        μ_x_y = np.zeros((self.nbx,self.nby))\n",
    "        for x in range(self.nbx):\n",
    "            for y in range(self.nby):\n",
    "                μ_x_y[x,y] = self.Mxy(x,y,μ_x0[x],μ_0y[y])\n",
    "        return(μ_x_y)\n",
    "\n",
    "#############\n",
    "mkt = GKW_model()\n",
    "μ_x0 = np.ones(nbx)\n",
    "μ_0y = np.ones(nby)\n",
    "\n",
    "mkt.M_x_y(μ_x0,μ_0y)[0:min(nbx,5),0:min(nby,5)]"
   ]
  },
  {
   "cell_type": "markdown",
   "metadata": {},
   "source": [
    "Next, we compute the mappings<br>\n",
    "$\\mu_{x0} \\to \\mu_{x0}+\\sum_y M_{xy}(\\mu_{x0},\\mu_{0y})$ and<br>\n",
    "$\\mu_{0y} \\to \\mu_{0y}+\\sum_x M_{xy}(\\mu_{x0},\\mu_{0y}).$ "
   ]
  },
  {
   "cell_type": "code",
   "execution_count": 13,
   "metadata": {},
   "outputs": [
    {
     "data": {
      "text/plain": [
       "941.356380561038"
      ]
     },
     "execution_count": 13,
     "metadata": {},
     "output_type": "execute_result"
    }
   ],
   "source": [
    "def marginx(self,x,μx0,μ_0y):\n",
    "    nx = μx0\n",
    "    for y in range(nby):\n",
    "        nx +=  self.Mxy(x,y,μx0,μ_0y[y])\n",
    "    return(nx)\n",
    "                                             \n",
    "def marginy(self,y,μ_x0,μ0y):\n",
    "    my = μ0y\n",
    "    for x in range(nbx):\n",
    "        my += self.Mxy(x,y,μ_x0[x],μ0y)\n",
    "    return(my)\n",
    "\n",
    "\n",
    "GKW_model.marginx = marginx\n",
    "GKW_model.marginy = marginy\n",
    "\n",
    "def margin_x(self,μ_x0,μ_0y):\n",
    "    μ_x_y = self.M_x_y(μ_x0,μ_0y)\n",
    "    return(μ_x0+np.sum(μ_x_y,axis = 1))\n",
    "\n",
    "def margin_y(self,μ_x0,μ_0y):\n",
    "    μ_x_y = self.M_x_y(μ_x0,μ_0y)\n",
    "    return(μ_0y+np.sum(μ_x_y,axis = 0))\n",
    "\n",
    "GKW_model.margin_x = margin_x\n",
    "GKW_model.margin_y = margin_y\n",
    "\n",
    "#############\n",
    "mkt.marginx(0,μ_x0[0],μ_0y) #[0:min(nbx,5)]"
   ]
  },
  {
   "cell_type": "markdown",
   "metadata": {},
   "source": [
    "Now we solve in $\\mu_{x0}$ the equation<br>\n",
    "$\\mu_{x0}+\\sum_y M_{xy}(\\mu_{x0},\\mu_{0y})=n_x,$<br>\n",
    "and in $\\mu_{0y}$ the equation<br>\n",
    "$\\mu_{0y}+\\sum_x M_{xy}(\\mu_{x0},\\mu_{0y})=m_y.$\n"
   ]
  },
  {
   "cell_type": "code",
   "execution_count": 14,
   "metadata": {},
   "outputs": [
    {
     "name": "stdout",
     "output_type": "stream",
     "text": [
      "1.4240432990043214e-05\n",
      "6.449459191590883e-09\n"
     ]
    }
   ],
   "source": [
    "import scipy.optimize as opt\n",
    "\n",
    "def invmarginx(self,x,μ_0y):    \n",
    "    newμx0 = opt.brentq(lambda theμx0 : self.marginx(x,theμx0,μ_0y)-self.n_x[x],0,self.n_x[x])\n",
    "    return(newμx0)\n",
    "\n",
    "def invmarginy(self,y,μ_x0):    \n",
    "    newμ0y = opt.brentq(lambda theμ0y : self.marginy(y,μ_x0,theμ0y)-self.m_y[y],0,self.m_y[y])\n",
    "    return(newμ0y )\n",
    "\n",
    "GKW_model.invmarginx = invmarginx\n",
    "GKW_model.invmarginy = invmarginy\n",
    "\n",
    "#############\n",
    "print(mkt.invmarginx(0,μ_0y)) #[0:min(nbx,5)])\n",
    "print(mkt.invmarginy(0,μ_x0)) #[0:min(nby,5)])"
   ]
  },
  {
   "cell_type": "code",
   "execution_count": 15,
   "metadata": {},
   "outputs": [
    {
     "name": "stdout",
     "output_type": "stream",
     "text": [
      "IPFP converged in 19 iterations and  7.050227403640747  seconds.\n",
      "Max absolute margin discrepancy= 9.311990810667581e-07\n",
      "Max absolute update discrepancy = 2.7887852765973165e-07\n",
      "Code = 0\n"
     ]
    }
   ],
   "source": [
    "from time import time\n",
    "\n",
    "def solveIPFP(self, maxit = 1000,maxvaltol=1e-5,maxsteptol=1e-9,output=0):\n",
    "    start_time = time()\n",
    "    code = 0\n",
    "    deltainvmarg_x = np.zeros(self.nbx)\n",
    "    deltainvmarg_y = np.zeros(self.nby)\n",
    "    μ_x0 = np.copy(self.n_x)\n",
    "    μ_0y = np.zeros(self.nby)\n",
    "    for i in range(maxit):\n",
    "        for y in range(self.nby):\n",
    "            newμ0y = self.invmarginy(y,μ_x0)\n",
    "            deltainvmarg_y[y] = newμ0y - μ_0y[y]\n",
    "            μ_0y[y] = newμ0y\n",
    "        for x in range(self.nbx):\n",
    "            newμx0 = self.invmarginx(x,μ_0y)\n",
    "            deltainvmarg_x[x] = newμx0 - μ_x0[x]\n",
    "            μ_x0[x] = newμx0\n",
    "        \n",
    "        deltamarg_x = self.margin_x(μ_x0,μ_0y) - n_x\n",
    "        deltamarg_y = self.margin_y(μ_x0,μ_0y) - m_y\n",
    "        #print(deltainvmarg_x)\n",
    "        #print(deltainvmarg_y)\n",
    "        #print(np.append(deltainvmarg_x,deltainvmarg_y))\n",
    "        steptol = np.max(np.abs( np.append(deltainvmarg_x,deltainvmarg_y) ) ) \n",
    "        valtol = np.max(np.abs(np.append(deltamarg_x,deltamarg_y)) )\n",
    "        \n",
    "        if output > 1 :\n",
    "            print(\"μ_x0=\",μ_x0)\n",
    "        if valtol < maxvaltol :\n",
    "            code = 0\n",
    "            break\n",
    "        if steptol < maxsteptol :\n",
    "            code = 1\n",
    "            break\n",
    "        code = 2\n",
    "    comp_time = time() - start_time\n",
    "    if output > 0 :\n",
    "        print( 'IPFP converged in', i, 'iterations and ',comp_time,' seconds.')\n",
    "        #print('Value of μ_x0=\",μ_x0)\n",
    "        print('Max absolute margin discrepancy=', valtol)            \n",
    "        print('Max absolute update discrepancy =',steptol)\n",
    "        print('Code =',code)\n",
    "\n",
    "    self.eq_μ_x0 = μ_x0\n",
    "    self.eq_μ_0y = μ_0y\n",
    "    self.eq_μ_x_y = self.M_x_y(μ_x0,μ_0y)\n",
    "    self.eq_deltamarg_x = deltamarg_x\n",
    "    self.eq_deltamarg_y = deltamarg_y\n",
    "    self.eq_deltainvmarg_x = deltainvmarg_x\n",
    "    self.eq_deltainvmarg_y = deltainvmarg_y\n",
    "    self.comp_code = code\n",
    "    self.comp_nbsteps = i\n",
    "    self.comp_time = comp_time\n",
    "    return code\n",
    "\n",
    "    \n",
    "GKW_model.solveIPFP = solveIPFP\n",
    "#############\n",
    "res=mkt.solveIPFP(output=1,maxvaltol=1e-6,maxsteptol=1e-9)  "
   ]
  },
  {
   "cell_type": "markdown",
   "metadata": {},
   "source": [
    "## Recovering the wages\n",
    "\n",
    "Recall that we had<br>\n",
    "$n_{xy}=U_{xy}-\\alpha_{xy}$ and $w_{xy} = \\gamma_{xy} -V_{xy}$,<br>\n",
    "and<br>\n",
    "$U_{xy} = \\log \\frac {\\mu_{xy}} {\\mu_{x0}} $ and $V_{xy} = \\log \\frac {\\mu_{xy}} {\\mu_{0y}},$<br>\n",
    "so as a result, we can compute:"
   ]
  },
  {
   "cell_type": "code",
   "execution_count": 16,
   "metadata": {},
   "outputs": [],
   "source": [
    "nw_x_y = np.log(mkt.eq_μ_x_y / np.repeat(mkt.eq_μ_x0.reshape(-1,1),nby,axis=1) ) - α_x_y\n",
    "gw_x_y = γ_x_y - np.log(mkt.eq_μ_x_y / np.repeat(mkt.eq_μ_0y.reshape(1,-1),nbx,axis=0) )"
   ]
  },
  {
   "cell_type": "code",
   "execution_count": 17,
   "metadata": {},
   "outputs": [
    {
     "name": "stdout",
     "output_type": "stream",
     "text": [
      "New wages:\n",
      "[1.30385757 0.8935055  1.10284918 2.04620117 1.75178446 1.73521571\n",
      " 1.48968658 1.37191615 2.06500547 1.52605521 0.76707772 1.81318585\n",
      " 2.30519593 2.22903284 1.14984461 2.09419898 1.1192523  1.7028357\n",
      " 1.96691546 1.39262044 1.46455772 0.55568796 1.28304339 1.290824\n",
      " 1.7754926  1.57292504 0.88985516 2.37878593 0.45871257 1.55522205\n",
      " 1.11066551 1.7484393  0.52394862 0.49697816 0.85967415 1.17476213\n",
      " 1.35904467 1.29928919 2.04306736 1.51228265 1.49612857 1.53383193\n",
      " 2.15068702 1.37190312 1.64722548 2.48953741 1.05462905 2.21522184\n",
      " 0.80869984 1.24276472]\n",
      "Gross wages:\n",
      "[1.78593497 1.20074426 1.48886591 2.87182579 2.44261692 2.41372419\n",
      " 2.05275854 1.8806596  2.89865695 2.1131941  1.01282072 2.53255592\n",
      " 3.25536533 3.14186617 1.55827555 2.94915694 1.51846839 2.36989825\n",
      " 2.76454771 1.91620008 2.02248659 0.72306444 1.75281883 1.76344577\n",
      " 2.47761834 2.17851614 1.18232484 3.364415   0.58675593 2.1524392\n",
      " 1.50923563 2.43266909 0.67013796 0.63383778 1.14035533 1.59421399\n",
      " 1.86219225 1.77692929 2.86701582 2.08654973 2.06239681 2.12485099\n",
      " 3.0320895  1.880463   2.28371967 3.5300437  1.43216044 3.13132773\n",
      " 1.07116416 1.69592063]\n"
     ]
    }
   ],
   "source": [
    "nw_x = np.sum(nw_x_y * mkt.eq_μ_x_y,axis = 1) / n_x\n",
    "gw_x = np.sum(gw_x_y * mkt.eq_μ_x_y,axis = 1) / n_x\n",
    "print('New wages:')\n",
    "print(nw_x)\n",
    "print('Gross wages:')\n",
    "print(gw_x)"
   ]
  }
 ],
 "metadata": {
  "kernelspec": {
   "display_name": "Python 3",
   "language": "python",
   "name": "python3"
  },
  "language_info": {
   "codemirror_mode": {
    "name": "ipython",
    "version": 3
   },
   "file_extension": ".py",
   "mimetype": "text/x-python",
   "name": "python",
   "nbconvert_exporter": "python",
   "pygments_lexer": "ipython3",
   "version": "3.8.5"
  }
 },
 "nbformat": 4,
 "nbformat_minor": 4
}
